{
 "cells": [
  {
   "cell_type": "markdown",
   "metadata": {},
   "source": [
    "### CS4423 - Networks\n",
    "Prof. Götz Pfeiffer<br />\n",
    "School of Mathematics, Statistics and Applied Mathematics<br />\n",
    "NUI Galway"
   ]
  },
  {
   "cell_type": "markdown",
   "metadata": {},
   "source": [
    "# Assignment 2"
   ]
  },
  {
   "cell_type": "markdown",
   "metadata": {},
   "source": [
    "Provide answers to the problems in the boxes provided.  \n",
    "\n",
    "The buttons at the top of the page can be used to **create\n",
    "more boxes if needed**.\n",
    "The type of box can be changed from `Code` to `Markdown`.\n",
    "`Code` boxes take (and execute) `python` code.\n",
    "`Markdown` boxes take (and format nicely) **text input**.\n",
    "In this way, you can provide answers, ask questions, \n",
    "or raise issues, in words.\n",
    "\n",
    "Marks will be awarded for\n",
    "participation and engagement.\n",
    "\n",
    "When finished, print this notebook into a **pdf** file and submit this to\n",
    "**blackboard**.\n",
    "\n",
    "**Deadline** is next Monday at 5pm."
   ]
  },
  {
   "cell_type": "markdown",
   "metadata": {},
   "source": [
    "## Setup"
   ]
  },
  {
   "cell_type": "markdown",
   "metadata": {},
   "source": [
    "This is a `jupyter` notebook.   You can open and interact\n",
    "with the notebook through one of sites recommended at\n",
    "its [github](https://github.com/gpfeiffer/cs4423) repository.\n",
    "\n",
    "Or, you can\n",
    "install and use `jupyter` as a `python` package on your own laptop or PC.  "
   ]
  },
  {
   "cell_type": "markdown",
   "metadata": {},
   "source": [
    "The following command loads the `networkx` package into the current session.  \n",
    "The next command specifies some standard options that can be useful for drawing graphs.  \n",
    "\n",
    "In order to execute the code in a box,\n",
    "use the mouse or arrow keys to highlight the box and then press SHIFT-RETURN."
   ]
  },
  {
   "cell_type": "code",
   "execution_count": null,
   "metadata": {},
   "outputs": [],
   "source": [
    "import networkx as nx\n",
    "import pandas as pd\n",
    "from queue import Queue\n",
    "opts = { \"with_labels\": True, \"node_color\": 'y' }"
   ]
  },
  {
   "cell_type": "markdown",
   "metadata": {},
   "source": [
    "Should it ever happen that the notebook becomes unusable, start again with a fresh copy."
   ]
  },
  {
   "cell_type": "markdown",
   "metadata": {},
   "source": [
    "## 1.  The Counties of Ireland."
   ]
  },
  {
   "cell_type": "markdown",
   "metadata": {},
   "source": [
    "Define a graph `I` on the $32$ counties of Ireland by\n",
    "joining two counties whenever they have a common border.\n",
    "(A list of counties and their borders in the adjacency list format\n",
    "can be found on [github](https://github.com/gpfeiffer/cs4423/blob/master/data/ireland.adj):\n",
    "check the data and let us know if you disagree!)\n",
    "\n",
    "What is the order and the size of the resulting graph?\n",
    "\n",
    "In terms of centrality measures, what are the $3$ most central counties, for\n",
    "1.  degree centrality?\n",
    "1.  eigenvector centrality?\n",
    "1.  closeness centrality?\n",
    "1.  betweenness centrality?\n",
    "\n"
   ]
  },
  {
   "cell_type": "code",
   "execution_count": null,
   "metadata": {},
   "outputs": [],
   "source": []
  },
  {
   "cell_type": "markdown",
   "metadata": {},
   "source": [
    "## 2.  Actions on Sets."
   ]
  },
  {
   "cell_type": "markdown",
   "metadata": {},
   "source": [
    "Recall the implementation of **permutations as tuples** ..."
   ]
  },
  {
   "cell_type": "code",
   "execution_count": null,
   "metadata": {},
   "outputs": [],
   "source": [
    "n = 4\n",
    "\n",
    "def transposition(n, i):\n",
    "    t = [k for k in range(n)]\n",
    "    t[i], t[i+1] = t[i+1], t[i]\n",
    "    return tuple(t)\n",
    "\n",
    "gens = [transposition(n, k) for k in range(n-1)]"
   ]
  },
  {
   "cell_type": "markdown",
   "metadata": {},
   "source": [
    "... and the **orbit algorithm** that creates the **action graph**:"
   ]
  },
  {
   "cell_type": "code",
   "execution_count": null,
   "metadata": {},
   "outputs": [],
   "source": [
    "def init_Q_G(x):\n",
    "    Q = Queue()\n",
    "    Q.put(x)\n",
    "    G = nx.Graph()\n",
    "    G.add_node(x)\n",
    "    return Q, G\n",
    "\n",
    "def action_graph(gens, x, action, equals):\n",
    "    Q, G = init_Q_G(x)\n",
    "    while not Q.empty():\n",
    "        y = Q.get()\n",
    "        for a in gens:\n",
    "            z = action(a, y)\n",
    "            w = next((v for v in G.nodes() if equals(v, z)), None)\n",
    "            if w is None:\n",
    "                Q.put(z)\n",
    "                G.add_node(z)\n",
    "                G.add_edge(y, z)\n",
    "            else:\n",
    "                G.add_edge(y, w)\n",
    "    return G"
   ]
  },
  {
   "cell_type": "markdown",
   "metadata": {},
   "source": [
    "Permutations act on subsets of $X = \\{0, 1, \\dots, n{-}1\\}$ in such a way that, for any subset $Z \\subseteq X$\n",
    "and a permutation $f$ of $X$, the image of $Z$ under $f$ is determined as\n",
    "$$\n",
    "f(Z) = \\{f(z) : z \\in Z\\},\n",
    "$$\n",
    "the image of the set is the set of the images. In `python`, using hashable `frozenset`s rather\n",
    "than mutable `set`s, this action can be defined as"
   ]
  },
  {
   "cell_type": "code",
   "execution_count": null,
   "metadata": {},
   "outputs": [],
   "source": [
    "def on_sets(a, zzz):\n",
    "    return frozenset(a[z] for z in zzz)"
   ]
  },
  {
   "cell_type": "markdown",
   "metadata": {},
   "source": [
    "Trusting that equality of (frozen) sets can be tested with `python`'s ordinary equals operator, we again set"
   ]
  },
  {
   "cell_type": "code",
   "execution_count": null,
   "metadata": {},
   "outputs": [],
   "source": [
    "def eq(x, y):\n",
    "    return x == y"
   ]
  },
  {
   "cell_type": "markdown",
   "metadata": {},
   "source": [
    "Then we can compute and draw the action graph of the symmetric group $S_4$ acting on the \n",
    "$2$-subsets of $\\{0,1,2,3\\}$, using $x = \\{0, 1\\}$ as the initial vertex:"
   ]
  },
  {
   "cell_type": "code",
   "execution_count": null,
   "metadata": {},
   "outputs": [],
   "source": [
    "G = action_graph(gens, frozenset({0,1}), on_sets, eq)\n",
    "nx.draw(G, **opts)"
   ]
  },
  {
   "cell_type": "markdown",
   "metadata": {},
   "source": [
    "1. Compute and draw the action graph of $S_5$ acting on the $3$-subsets of $\\{0,1,2,3,4\\}$.\n",
    "(You would need to define a new list `gens` of generators, and find a suitable $3$-set `x`\n",
    "to compute the orbit of.  Everything else, the `action_graph` function, the action `on_sets`\n",
    "and the equality test `eq` should still work.)\n",
    "\n",
    "2. Compute and draw the action graph of $S_6$ acting on the $3$-subsets of $\\{0,1,2,3,4,5\\}$."
   ]
  },
  {
   "cell_type": "code",
   "execution_count": null,
   "metadata": {},
   "outputs": [],
   "source": []
  },
  {
   "cell_type": "markdown",
   "metadata": {},
   "source": [
    "## 3. Labelled vs. Unlabelled Trees"
   ]
  },
  {
   "cell_type": "markdown",
   "metadata": {},
   "source": [
    "According to Cayley's formula, there are $n^{n-2}$ **labelled trees**\n",
    "on the $n$-point vertex set $X = \\{0, 1, 2, \\dots, n{-}1\\}$.\n",
    "\n",
    "The **isomorphism types** of trees, aka **unlabelled trees** on $n$ vertices\n",
    "are much harder to count: there is no closed formula for the number of unlabelled trees.\n",
    "\n",
    "Using the concept of group actions, we have already determined the\n",
    "**orbits** of the labelled trees on $4$ nodes under all permutations \n",
    "of those $4$ nodes.  As a result we have seen that there are (only) $2$\n",
    "unlabelled trees on $4$ points, one orbit of length $4$ and one of length $12$,\n",
    "accounting for a total of $4^{4-2} = 16$ labelled trees.\n",
    "\n",
    "The same method yields unlabelled trees on more than $4$ points, as follows.\n",
    "Recall the tools that have been used in the case $n = 4$."
   ]
  },
  {
   "cell_type": "markdown",
   "metadata": {},
   "source": [
    "* We have represented permutations on $n$ points as `python` tuples of length $n$,\n",
    "in particular the transposition swapping points $i$ and $i{+}1$:"
   ]
  },
  {
   "cell_type": "code",
   "execution_count": null,
   "metadata": {},
   "outputs": [],
   "source": [
    "def transposition(n, i):\n",
    "    t = list(range(n))\n",
    "    t[i], t[i+1] = t[i+1], t[i]\n",
    "    return tuple(t)"
   ]
  },
  {
   "cell_type": "markdown",
   "metadata": {},
   "source": [
    "* We have checked equality of graphs by checking whether their node sets and their\n",
    "edge sets are the same:"
   ]
  },
  {
   "cell_type": "code",
   "execution_count": null,
   "metadata": {},
   "outputs": [],
   "source": [
    "def is_subgraph(G, H):\n",
    "    for x in G:\n",
    "        if not H.has_node(x):\n",
    "            return False\n",
    "    for e in G.edges:\n",
    "        if not H.has_edge(*e):\n",
    "            return False\n",
    "    return True \n",
    "\n",
    "def are_equal_as_graphs(G, H):\n",
    "    return is_subgraph(G, H) and is_subgraph(H, G)"
   ]
  },
  {
   "cell_type": "markdown",
   "metadata": {},
   "source": [
    "* We have set up a BFS over the implicit action graph\n",
    "spanned by the action of the symmetric group as an **orbit algorithm**:"
   ]
  },
  {
   "cell_type": "code",
   "execution_count": null,
   "metadata": {},
   "outputs": [],
   "source": [
    "def orbit(gens, x, action, equals):\n",
    "    xxx = [x]\n",
    "    for y in xxx:\n",
    "        for a in gens:\n",
    "            z = action(a, y)\n",
    "            w = next((v for v in xxx if equals(v, z)), None)\n",
    "            if w is None:\n",
    "                xxx.append(z)\n",
    "    return xxx"
   ]
  },
  {
   "cell_type": "markdown",
   "metadata": {},
   "source": [
    "* And we have formulated the relabelling of nodes as a group action:"
   ]
  },
  {
   "cell_type": "code",
   "execution_count": null,
   "metadata": {},
   "outputs": [],
   "source": [
    "def relabel(a, G):\n",
    "    mapping = dict(enumerate(a))\n",
    "    return nx.relabel_nodes(G, mapping)"
   ]
  },
  {
   "cell_type": "markdown",
   "metadata": {},
   "source": [
    "* Finally, we'll use the [`is_isomorphic`](https://networkx.github.io/documentation/stable/reference/algorithms/generated/networkx.algorithms.isomorphism.is_isomorphic.html) function that `networkx` provides to\n",
    "test isomorphism of graphs."
   ]
  },
  {
   "cell_type": "markdown",
   "metadata": {},
   "source": [
    "With all of this in place, we can systematically list all \n",
    "unlabelled trees on $n = 5$\n",
    "nodes: \n",
    "\n",
    "* Start by setting `n` to $5$, listing the four generating transpositions\n",
    "of the symmetric group $S_5$ as `swaps`, and initializing a list of `orbits`,\n",
    "for now as an empty list:"
   ]
  },
  {
   "cell_type": "code",
   "execution_count": null,
   "metadata": {},
   "outputs": [],
   "source": [
    "n = 5\n",
    "swaps = [transposition(n, k) for k in range(n-1)]\n",
    "orbits = []"
   ]
  },
  {
   "cell_type": "markdown",
   "metadata": {},
   "source": [
    "* Pick a random tree `t` on $n$ points and draw it:"
   ]
  },
  {
   "cell_type": "code",
   "execution_count": null,
   "metadata": {},
   "outputs": [],
   "source": [
    "t = nx.random_tree(n)\n",
    "nx.draw(t)"
   ]
  },
  {
   "cell_type": "markdown",
   "metadata": {},
   "source": [
    "* Compute the orbit of `t` under the generating permutations `swaps`\n",
    "  with respect to the `relabel` action, append the orbit to the list `orbits`\n",
    "  and check its length:"
   ]
  },
  {
   "cell_type": "code",
   "execution_count": null,
   "metadata": {},
   "outputs": [],
   "source": [
    "orb = orbit(swaps, t, relabel, are_equal_as_graphs)\n",
    "orbits.append(orb)\n",
    "len(orb)"
   ]
  },
  {
   "cell_type": "markdown",
   "metadata": {},
   "source": [
    "* Pick another random tree `t`; in case it is isomorphic to the old tree `t`\n",
    "  (which now is `orbits[0][0]`) pick again, and keep picking until a tree `t` is\n",
    "  found that's not isomorphic to the old one; draw `t` - it should have a different shape:"
   ]
  },
  {
   "cell_type": "code",
   "execution_count": null,
   "metadata": {},
   "outputs": [],
   "source": [
    "t = nx.random_tree(n)\n",
    "while nx.is_isomorphic(t, orbits[0][0]):\n",
    "    t = nx.random_tree(n)\n",
    "\n",
    "nx.draw(t)"
   ]
  },
  {
   "cell_type": "markdown",
   "metadata": {},
   "source": [
    "* Compute its orbit and append it to the list `orbits`:"
   ]
  },
  {
   "cell_type": "code",
   "execution_count": null,
   "metadata": {},
   "outputs": [],
   "source": [
    "orb = orbit(swaps, t, relabel, are_equal_as_graphs)\n",
    "orbits.append(orb)\n",
    "len(orb)"
   ]
  },
  {
   "cell_type": "markdown",
   "metadata": {},
   "source": [
    "* How many labelled trees have we found so far?"
   ]
  },
  {
   "cell_type": "code",
   "execution_count": null,
   "metadata": {},
   "outputs": [],
   "source": [
    "sum(len(o) for o in orbits)"
   ]
  },
  {
   "cell_type": "markdown",
   "metadata": {},
   "source": [
    "* That's less than $125$, so we keep searching by repeating the above steps - first\n",
    "  keep picking random trees until one is found that is not isomorphic to \n",
    "  [**any**](https://docs.python.org/3/library/functions.html#any) of the previously found ones (which now are `o[0] for o in orbits`):"
   ]
  },
  {
   "cell_type": "code",
   "execution_count": null,
   "metadata": {},
   "outputs": [],
   "source": [
    "t = nx.random_tree(n)\n",
    "while any(nx.is_isomorphic(t, o[0]) for o in orbits):\n",
    "    t = nx.random_tree(n)\n",
    "\n",
    "nx.draw(t)"
   ]
  },
  {
   "cell_type": "markdown",
   "metadata": {},
   "source": [
    "* Then append its orbit to the list `orbits`:"
   ]
  },
  {
   "cell_type": "code",
   "execution_count": null,
   "metadata": {},
   "outputs": [],
   "source": [
    "orb = orbit(swaps, t, relabel, are_equal_as_graphs)\n",
    "orbits.append(orb)\n",
    "len(orb)"
   ]
  },
  {
   "cell_type": "markdown",
   "metadata": {},
   "source": [
    "* Have we found them all?"
   ]
  },
  {
   "cell_type": "code",
   "execution_count": null,
   "metadata": {},
   "outputs": [],
   "source": [
    "sum(len(o) for o in orbits)"
   ]
  },
  {
   "cell_type": "markdown",
   "metadata": {},
   "source": [
    "* Yes, all $125$!  So that's $3$ unlabelled trees on $5$ points, \n",
    "  with orbits of length $60$, $60$ and $5$."
   ]
  },
  {
   "cell_type": "markdown",
   "metadata": {},
   "source": [
    "**How many** unlabelled trees are there $n = 6$ points?  Enumerate the \n",
    "**orbits of labelled trees** on $6$ points as above, by following these steps:\n",
    "\n",
    "1. Start by setting `n` to $6$, `swaps` to the list of $5$ generating transpositions\n",
    "   of the symmetric group $S_6$, and `orbits` to the empty list.\n",
    "\n",
    "2. Pick a random tree `t` and draw it.\n",
    "\n",
    "3. Compute the orbit `orb` of `t` under the generating permutations `swaps`,\n",
    "   append `orb` to the list `orbits` and check the length of `orb`.\n",
    "\n",
    "4. Repeat the following steps until the sum of the orbit lengths in `orbits`\n",
    "   equals $6^{6-2} = 1296$:\n",
    "   \n",
    "5. Keep picking random trees on $6$ points until a tree `t` is found that is not isomorphic to any of the previous ones, then draw `t` (is it a new shape?).\n",
    "\n",
    "3. Compute the orbit `orb` of `t` under the generating permutations `swaps`,\n",
    "   append `orb` to the list `orbits` and check the length of `orb`.\n",
    "\n",
    "7. Check the sum of the orbit lengths in `orbit`.  STOP if the desired number is reached.\n",
    "\n",
    "8. How many unlabelled trees on $6$ points did you find?\n",
    "\n",
    "9. How big are their **automorphism groups**? (Use the Orbit-Stabilizer Theorem.)"
   ]
  },
  {
   "cell_type": "code",
   "execution_count": null,
   "metadata": {},
   "outputs": [],
   "source": []
  },
  {
   "cell_type": "markdown",
   "metadata": {},
   "source": [
    "## 4. A Collaborations Network"
   ]
  },
  {
   "cell_type": "markdown",
   "metadata": {},
   "source": [
    "The **social graph** of a node $x$ in a (social) network\n",
    "is the **induced subgraph** on the set of friends of $x$\n",
    "(that is the graph which has (only) the friends of $x$\n",
    "as its vertices, and between them all the edges from the\n",
    "original network).\n",
    "The **clustering coefficient** of $x$ is the density\n",
    "$m \\, \\binom{n}{2}^{-1}$\n",
    "of the social graph of $x$, the proportion of its actual number of edges,\n",
    "$m$, in the set of potential edges, of size $\\binom{n}{2} = \\frac12 n(n-1)$,\n",
    "where $n$ is its number of vertices.\n",
    "\n",
    "[MathSciNet](http://www.ams.org/mathscinet) describes \n",
    "the social network of mathematical researchers defined\n",
    "by collaboration.\n",
    "\n",
    "1. **Pick** a (local) mathematician with at least $10$\n",
    "friends (i.e., co-authors), determine their social graph.\n",
    "\n",
    "2. Hence compute their clustering coefficient.\n",
    "\n",
    "(**Note** that access to these data is free, but only **on campus**.)\n"
   ]
  },
  {
   "cell_type": "code",
   "execution_count": null,
   "metadata": {},
   "outputs": [],
   "source": []
  }
 ],
 "metadata": {
  "kernelspec": {
   "display_name": "Python 3",
   "language": "python",
   "name": "python3"
  },
  "language_info": {
   "codemirror_mode": {
    "name": "ipython",
    "version": 3
   },
   "file_extension": ".py",
   "mimetype": "text/x-python",
   "name": "python",
   "nbconvert_exporter": "python",
   "pygments_lexer": "ipython3",
   "version": "3.7.6"
  }
 },
 "nbformat": 4,
 "nbformat_minor": 2
}
