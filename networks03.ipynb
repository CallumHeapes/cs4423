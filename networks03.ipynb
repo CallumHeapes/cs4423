{
 "cells": [
  {
   "cell_type": "markdown",
   "metadata": {},
   "source": [
    "### CS4423 - Networks\n",
    "Prof. Götz Pfeiffer<br />\n",
    "School of Mathematics, Statistics and Applied Mathematics<br />\n",
    "NUI Galway"
   ]
  },
  {
   "cell_type": "markdown",
   "metadata": {},
   "source": [
    "#### 1. Graphs and Graph Theory\n",
    "\n",
    "# Lecture 3: Graphs, Relations and a Matrix"
   ]
  },
  {
   "cell_type": "markdown",
   "metadata": {},
   "source": [
    "Import the `networkx` package and construct a small graph `G`."
   ]
  },
  {
   "cell_type": "code",
   "execution_count": null,
   "metadata": {
    "slideshow": {
     "slide_type": "fragment"
    }
   },
   "outputs": [],
   "source": [
    "import networkx as nx\n",
    "G = nx.Graph([\"AB\", \"BC\", \"BD\", \"CD\", \"DE\"])\n",
    "opts = { \"with_labels\": True, \"node_color\": 'y' }\n",
    "nx.draw(G, **opts)"
   ]
  },
  {
   "cell_type": "markdown",
   "metadata": {},
   "source": [
    "##  Adjacency Matrix"
   ]
  },
  {
   "cell_type": "markdown",
   "metadata": {},
   "source": [
    "A useful algebraic way to represent a graph is given by its __adjacency matrix__.  This is square matrix $A$, with rows and columns corresponding to the vertices of the graph, and an entry $1$ or $0$ in row $i$, column $j$, if\n",
    "the corresponding vertices are joined by an edge or not.\n",
    "The edge $AB$ in the example above this gives an entry $1$\n",
    "in row 1 (corresponding to vertex $A$) and column 2 (corresponding to\n",
    "vertex $B$.  And another entry $1$ in row 2 column 1.  The full adjacency matrix\n",
    "of the above graph is as follows.\n",
    "$$A = \\left[\n",
    "\\begin{array}{cccc}\n",
    "0&1&0&0&0\\\\\n",
    "1&0&1&1&0\\\\\n",
    "0&1&0&1&0\\\\\n",
    "0&1&1&0&1\\\\\n",
    "0&0&0&1&0\n",
    "\\end{array}\n",
    "\\right]$$"
   ]
  },
  {
   "cell_type": "markdown",
   "metadata": {},
   "source": [
    "In `networkx`, the adjacency matrix is computed with the `adjacency_matrix` command.\n",
    "This matrix is internally represented as a `numpy` sparse matrix (as in general many of its\n",
    "entries are $0$) and needs to be converted (e.g. by the `todense` command) in order\n",
    "to be displayed as a proper matrix."
   ]
  },
  {
   "cell_type": "code",
   "execution_count": null,
   "metadata": {},
   "outputs": [],
   "source": [
    "A = nx.adjacency_matrix(G)\n",
    "print(A)"
   ]
  },
  {
   "cell_type": "code",
   "execution_count": null,
   "metadata": {},
   "outputs": [],
   "source": [
    "print(A.todense())"
   ]
  },
  {
   "cell_type": "markdown",
   "metadata": {},
   "source": [
    "Note that $A = (a_{ij})$, like every adjacency matrix of a simple\n",
    "graph, is **symmetric** (about the diagonal): $a_{ij} = a_{ji}$ for all\n",
    "$i, j$.  Also, all diagonal entries are $0$."
   ]
  },
  {
   "cell_type": "code",
   "execution_count": null,
   "metadata": {},
   "outputs": [],
   "source": [
    "H = nx.from_numpy_matrix(A.todense())\n",
    "nx.draw(H, **opts)"
   ]
  },
  {
   "cell_type": "code",
   "execution_count": null,
   "metadata": {},
   "outputs": [],
   "source": [
    "print((A**0).todense())"
   ]
  },
  {
   "cell_type": "markdown",
   "metadata": {},
   "source": [
    "## Degree"
   ]
  },
  {
   "cell_type": "markdown",
   "metadata": {},
   "source": [
    "The **degree** of a vertex $x$ in a simple graph is the number of\n",
    "vertices it is connected to in the graph (it's number of **neighbours**, or **friends**).\n",
    "The degree can serve as a (simple) measure of the importance of a node\n",
    "in a network.  "
   ]
  },
  {
   "cell_type": "markdown",
   "metadata": {},
   "source": [
    "<div class=\"alert alert-info\">\n",
    "    <b>Fact.</b> The <b>average degree</b> of the nodes in a network depends\n",
    "(only) on the number $n$ of nodes, and the number $m$ of edges in the\n",
    "network.\n",
    "</div>"
   ]
  },
  {
   "cell_type": "markdown",
   "metadata": {},
   "source": [
    "This can be seen as follows:  Writing $k_i$ for the degree of vertex $x_i$, this number\n",
    "easily be determined from the adjacency matrix $A$ as the number of\n",
    "entries $1$ in row $i$ (or in column $i$):\n",
    "$$k_i = \\sum_j a_{ij} = \\sum_j a_{ji}.$$\n",
    "As every edge contributes to the degree of $2$ nodes, the sum of all degrees\n",
    "equals twice the number of edges:\n",
    "$$\\sum_i k_i = 2m,$$\n",
    "whence the **average degree** is\n",
    "$$c = \\frac1n \\sum_i k_i = \\frac{2m}{n}.$$"
   ]
  },
  {
   "cell_type": "markdown",
   "metadata": {},
   "source": [
    "As a consequence, any simple graph $G$ has an even number of nodes of odd degree.\n",
    "This fact is known as [Euler's Handshake Lemma](https://en.wikipedia.org/wiki/Handshaking_lemma)."
   ]
  },
  {
   "cell_type": "markdown",
   "metadata": {},
   "source": [
    "In our graph $G$, the column sums of the adjacency matrix `A` are:"
   ]
  },
  {
   "cell_type": "code",
   "execution_count": null,
   "metadata": {},
   "outputs": [],
   "source": [
    "A.sum(0)"
   ]
  },
  {
   "cell_type": "markdown",
   "metadata": {},
   "source": [
    "and the row sums are:"
   ]
  },
  {
   "cell_type": "code",
   "execution_count": null,
   "metadata": {},
   "outputs": [],
   "source": [
    "A.sum(1)"
   ]
  },
  {
   "cell_type": "markdown",
   "metadata": {},
   "source": [
    "and both agree with the degrees of the nodes of $G$:"
   ]
  },
  {
   "cell_type": "code",
   "execution_count": null,
   "metadata": {},
   "outputs": [],
   "source": [
    "G.degree()"
   ]
  },
  {
   "cell_type": "markdown",
   "metadata": {},
   "source": [
    "The sum of the degrees is $8$, the average degree is $\\frac{2m}{n} = 5$,\n",
    "and there are $4$ nodes of odd degree."
   ]
  },
  {
   "cell_type": "code",
   "execution_count": null,
   "metadata": {},
   "outputs": [],
   "source": [
    "A.sum()"
   ]
  },
  {
   "cell_type": "markdown",
   "metadata": {},
   "source": [
    "## Graphs are Relations"
   ]
  },
  {
   "cell_type": "markdown",
   "metadata": {},
   "source": [
    "Recall the following definitions.\n",
    "\n",
    "<div class=\"alert alert-danger\">\n",
    "    <b>Definition.</b>  A <b>relation</b> from a set $X$ to a set $Y$ is (nothing but) a subset\n",
    "$R$ of the Cartesian product $X \\times Y = \\{(x, y) :  x \\in X,\\, y \\in Y \\}$.\n",
    "    We say that $x \\in X$ is <b>$R$-related</b> to $y \\in Y$ whenever $(x, y) \\in R$\n",
    "and then write $x R y$.\n",
    "</div>"
   ]
  },
  {
   "cell_type": "markdown",
   "metadata": {},
   "source": [
    "* The **adjacency matrix** of a relation $R \\subseteq X \\times Y$\n",
    "is the matrix with one row for each element $x \\in X$ and one column for each\n",
    "element $y \\in Y$, and it has an entry $1$ in row $x$ and column $y$\n",
    "if $x R y$, and entries $0$ otherwise."
   ]
  },
  {
   "cell_type": "markdown",
   "metadata": {},
   "source": [
    "* In many cases, $Y = X$, i.e., $R$ is a **homogeneous** relation.\n",
    "In this case, we say that $R$ is a relation **on** $X$.  Such a relation\n",
    "can have one or more of the following properties.\n",
    "\n",
    "<div class=\"alert alert-danger\">\n",
    "    <ul>\n",
    "        <li> (R) $R$ is <b>reflexive</b> if $xRx$ for all $x \\in X$;</li>\n",
    "        <li> (S) $R$ is <b>symmetric</b> if $xRy$ implies $yRx$ for all $x, y \\in X$;</li>\n",
    "    <li> (T) $R$ is <b>transitive</b> if $xRy$ and $yRz$ imply that $xRz$ for all $x, y, z \\in X$;</li>\n",
    "    </ul>\n",
    "    <ul>\n",
    "        <li> (I) $R$ is <b>irreflexive</b> if not $xRx$ for all $x \\in X$;</li>\n",
    "    <li> (A) $R$ is <b>antisymmetric</b> if $xRy$ and $yRx$ imply that\n",
    "        $x = y$ for all $x, y \\in X$.</li>\n",
    "    </ul>\n",
    "</div>"
   ]
  },
  {
   "cell_type": "markdown",
   "metadata": {},
   "source": [
    "* A relation that is (RST), i.e., reflexive, symmetric and transitive, is\n",
    "called an **equivalence relation**, and it partitions the set $X$ into\n",
    "(mutually disjoint) parts, called **equivalence classes**.  "
   ]
  },
  {
   "cell_type": "markdown",
   "metadata": {},
   "source": [
    "* A relation\n",
    "that is (RAT) is called a **partial order** (such as the **divides**\n",
    "partial order on the natural numbers, or the **contains** relation\n",
    "between the subsets of a set)."
   ]
  },
  {
   "cell_type": "markdown",
   "metadata": {},
   "source": [
    "* In view of these notions, we can now describe simple graphs and some\n",
    "of their properties\n",
    "as follows: A *simple* graph with node set $X$ is a *symmetric*,\n",
    "*irreflexive* relation on $X$.  \n",
    "\n",
    "* (A *directed* graph with node set $X$\n",
    "is *irreflexive* if it has *no loops*.  And it is *antisymmetric* if\n",
    "every edge has a *unique direction*.)"
   ]
  },
  {
   "cell_type": "markdown",
   "metadata": {},
   "source": [
    "The article [Counting Transitive Relations] (in the *Journal of\n",
    "Integer Sequences*) contains a systematic account on the various types\n",
    "of relations that can be distinguished by these 5 properties, and a\n",
    "discussion of how to count them (up to equivalence) in case the\n",
    "underlying set $X$ is finite.\n",
    "\n",
    "[counting transitive relations]: https://cs.uwaterloo.ca/journals/JIS/VOL7/Pfeiffer/pfeiffer6.html"
   ]
  },
  {
   "cell_type": "markdown",
   "metadata": {},
   "source": [
    "##  Code Corner"
   ]
  },
  {
   "cell_type": "markdown",
   "metadata": {},
   "source": [
    "### `Numpy`"
   ]
  },
  {
   "cell_type": "markdown",
   "metadata": {},
   "source": [
    "* `sum`:  form the sum of matrix entries, either all or along a specified axis"
   ]
  },
  {
   "cell_type": "markdown",
   "metadata": {},
   "source": [
    "* `todense`:  convert a sparse matrix into a proper matrix"
   ]
  },
  {
   "cell_type": "markdown",
   "metadata": {},
   "source": [
    "* `A * A`: matrix multiplication"
   ]
  },
  {
   "cell_type": "markdown",
   "metadata": {},
   "source": [
    "* `A**0`:  the $0$-th power of a square matrix is the identity matrix of the same size."
   ]
  },
  {
   "cell_type": "markdown",
   "metadata": {},
   "source": [
    "### `networkx`"
   ]
  },
  {
   "cell_type": "markdown",
   "metadata": {},
   "source": [
    "* `adjacency_matrix` computes the adjacency matrix of a graph"
   ]
  },
  {
   "cell_type": "markdown",
   "metadata": {},
   "source": [
    "  * `from_numpy_matrix` constructs a graph from its adjacency matrix"
   ]
  },
  {
   "cell_type": "markdown",
   "metadata": {},
   "source": [
    "##  Exercises"
   ]
  },
  {
   "cell_type": "markdown",
   "metadata": {},
   "source": [
    "1. Use the `complete_graph` function in `networkx` to construct a $5 \\times 5$ matrix\n",
    "   with entries $0$ on the diagonal and all other entries $1$."
   ]
  },
  {
   "cell_type": "code",
   "execution_count": null,
   "metadata": {},
   "outputs": [],
   "source": []
  }
 ],
 "metadata": {
  "kernelspec": {
   "display_name": "Python 3",
   "language": "python",
   "name": "python3"
  },
  "language_info": {
   "codemirror_mode": {
    "name": "ipython",
    "version": 3
   },
   "file_extension": ".py",
   "mimetype": "text/x-python",
   "name": "python",
   "nbconvert_exporter": "python",
   "pygments_lexer": "ipython3",
   "version": "3.7.6"
  }
 },
 "nbformat": 4,
 "nbformat_minor": 1
}
