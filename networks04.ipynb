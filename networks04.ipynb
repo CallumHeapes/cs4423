{
 "cells": [
  {
   "cell_type": "markdown",
   "metadata": {},
   "source": [
    "### CS4423 - Networks\n",
    "Prof. Götz Pfeiffer<br />\n",
    "School of Mathematics, Statistics and Applied Mathematics<br />\n",
    "NUI Galway"
   ]
  },
  {
   "cell_type": "markdown",
   "metadata": {},
   "source": [
    "#### 1. Graphs and Graph Theory\n",
    "\n",
    "# Lecture 4: Bipartite Graphs and Projections"
   ]
  },
  {
   "cell_type": "markdown",
   "metadata": {},
   "source": [
    "We'll look at further properties of graphs and networks, both from a theoretical point of views and \n",
    "from the practical side of handling graphs in the `NetworkX` environment.  Start by importing the necessary\n",
    "`python` libraries into this `jupyter` notebook."
   ]
  },
  {
   "cell_type": "code",
   "execution_count": null,
   "metadata": {},
   "outputs": [],
   "source": [
    "import networkx as nx\n",
    "import numpy as np"
   ]
  },
  {
   "cell_type": "markdown",
   "metadata": {},
   "source": [
    "Provide a sample graph, as before."
   ]
  },
  {
   "cell_type": "code",
   "execution_count": null,
   "metadata": {},
   "outputs": [],
   "source": [
    "G = nx.Graph([\"AB\", \"BC\", \"BD\", \"CD\", \"CE\", \"DE\"])\n",
    "opts = { \"with_labels\": True, \"node_color\": 'y' }\n",
    "nx.draw(G, **opts)"
   ]
  },
  {
   "cell_type": "markdown",
   "metadata": {},
   "source": [
    "## Composition and Adjacency Matrices.\n",
    "\n",
    "* Relations can be composed, like functions.  \n",
    "\n",
    "* If $R$ is a relation\n",
    "from a set $X$ to a set $Y$, and if $S$ is a relation from $Y$ to a set $Z$,\n",
    "then the __composite relation__ $R \\circ S$ is the relation\n",
    "from $X$ to $Z$, defined by $x (R \\circ S) z$ if there is a\n",
    "an element $y \\in Y$ such that $x R y$ and $y S z$."
   ]
  },
  {
   "cell_type": "markdown",
   "metadata": {},
   "source": [
    "* The adjacency matrix of the composite relation $R \\circ S$\n",
    "is essentially the (matrix) product of the adjacency matrices\n",
    "of the individual relations $R$ and $S$.\n",
    "\n",
    "* If $A = (a_{ij})$ is the adjacency matrix of $R$, and $B = (b_{jk})$ the adjacency matrix of $S$,\n",
    "then the $i,k$-entry of the product $AB$ is\n",
    "$$(AB)_{ik} = \\sum_{j} a_{ij} b_{jk},$$\n",
    "which is exactly the __number__ of elements $y \\in Y$ such that $x_i R\n",
    "y$ and $y S z_k$.  \n",
    "\n",
    "* All it needs for $x_i$ to be $(R \\circ S)$-related\n",
    "to $z_k$ is this number to be at least $1$.  \n",
    "\n",
    "* Hence, replacing all\n",
    "nonzero entries in the product matrix $AB$ with $1$ yields the\n",
    "adjacency matrix of the composite $R \\circ S$."
   ]
  },
  {
   "cell_type": "markdown",
   "metadata": {},
   "source": [
    "* Note that, if $R$ is a relation from $X$ to $Y$\n",
    "then the **opposite** Relation $R^{\\mathrm{op}} = \\{(y, x) :  xRy\\}$\n",
    "is a relation from $Y$ to $X$.\n",
    "\n",
    "* The adjacency matrix of $R^{\\mathrm{op}}$ is the **transpose** $A^T$\n",
    "  of the adjacency matrix $A$ of $R$.\n",
    "\n",
    "* Hence $R \\circ R^{\\mathrm{op}}$ is a relation **on** $X$ (with adjacency matrix $A A^{T}$)\n",
    "  and $R^T \\circ R$ is a relation **on** $Y$ (with adjacency matrix $A^T A$)."
   ]
  },
  {
   "cell_type": "markdown",
   "metadata": {},
   "source": [
    "* Recall that a graph $G$ on a vertex set $X$ is the same as a symmetric intransitive\n",
    "  relation $R$  on the set $X$.\n",
    "\n",
    "* We can form the matrix product of the adjacency matrix $A$ of $G$ (or $R$) with itself.\n",
    "  What is the **meaning** of the entries of that product?"
   ]
  },
  {
   "cell_type": "code",
   "execution_count": null,
   "metadata": {},
   "outputs": [],
   "source": [
    "A = nx.adjacency_matrix(G).todense()\n",
    "AA = A * A\n",
    "print(AA)"
   ]
  },
  {
   "cell_type": "markdown",
   "metadata": {},
   "source": [
    "In `numpy`, one can use **boolean indexing** and other convenient methods to convert $A^2$\n",
    "into an adjacency matrix of a graph."
   ]
  },
  {
   "cell_type": "code",
   "execution_count": null,
   "metadata": {},
   "outputs": [],
   "source": [
    "AA[AA>1] = 1\n",
    "print(AA)"
   ]
  },
  {
   "cell_type": "code",
   "execution_count": null,
   "metadata": {},
   "outputs": [],
   "source": [
    "np.fill_diagonal(AA, 0)\n",
    "print(AA)"
   ]
  },
  {
   "cell_type": "code",
   "execution_count": null,
   "metadata": {},
   "outputs": [],
   "source": [
    "GG = nx.from_numpy_matrix(AA)\n",
    "nx.draw(GG, **opts)"
   ]
  },
  {
   "cell_type": "markdown",
   "metadata": {},
   "source": [
    "* Oops - The node names got lost.  They can be revived by relabelling the nodes in `GG`."
   ]
  },
  {
   "cell_type": "code",
   "execution_count": null,
   "metadata": {},
   "outputs": [],
   "source": [
    "nx.relabel_nodes(GG, { i : \"ABCDE\"[i] for i in range(5)}, copy=False)\n",
    "nx.draw(GG, **opts)"
   ]
  },
  {
   "cell_type": "markdown",
   "metadata": {},
   "source": [
    "### Bipartite Graphs"
   ]
  },
  {
   "cell_type": "markdown",
   "metadata": {},
   "source": [
    "<div class=\"alert alert-warning\">\n",
    "    A (simple) graph $G = (X, E)$ is called <b>bipartite</b>, if the vertex set $X$ is a disjoint union\n",
    "of two sets $B$ (of black nodes) and $W$ (of white nodes) so that each edge in $E$ links a\n",
    "black vertex with a white vertex.\n",
    "    </div>"
   ]
  },
  {
   "cell_type": "markdown",
   "metadata": {},
   "source": [
    "Here is a sample bipartite graph $B$, specified to the `Graph` constructor by its edge list."
   ]
  },
  {
   "cell_type": "code",
   "execution_count": null,
   "metadata": {},
   "outputs": [],
   "source": [
    "edges = [(0,5), (1,5), (1,6), (1,7), (1,8), \n",
    "  (2,8), (3,5), (3,9), (4,7), (4,8), (4,9)]\n",
    "B = nx.Graph(edges)\n",
    "nx.draw(B, **opts)"
   ]
  },
  {
   "cell_type": "markdown",
   "metadata": {},
   "source": [
    "In this graph, the **white** nodes can be taken  as the set $W = \\{0,1,2,\\dots,4\\}$ \n",
    "and the **black** nodes as $B = \\{5,6,\\dots,9\\}$.\n",
    "The drawing command `nx.draw` takes as optional argument a dictionary `pos` that specifies for\n",
    "each node a (relative) position in the drawing.  Here, the node is the key and the \n",
    "position is a pair of $x$,$y$-coordinates.  In this example we can use the (integer) quotient\n",
    "and remainder, as returned by the python method `divmod` to quickly compute a dictionary of positions\n",
    "that have the white nodes on the left, and the black nodes on the right."
   ]
  },
  {
   "cell_type": "code",
   "execution_count": null,
   "metadata": {},
   "outputs": [],
   "source": [
    "divmod(7, 5)"
   ]
  },
  {
   "cell_type": "code",
   "execution_count": null,
   "metadata": {},
   "outputs": [],
   "source": [
    "pos = {x: divmod(x, 5) for x in range(10)}\n",
    "pos"
   ]
  },
  {
   "cell_type": "code",
   "execution_count": null,
   "metadata": {},
   "outputs": [],
   "source": [
    "nx.draw(B, pos, **opts)"
   ]
  },
  {
   "cell_type": "markdown",
   "metadata": {},
   "source": [
    "Node colors can be specified as a *list* assigned to the keyword argument `node_color`.  We can use the $x$-coordinates of the node positions for that purpose."
   ]
  },
  {
   "cell_type": "code",
   "execution_count": null,
   "metadata": {},
   "outputs": [],
   "source": [
    "color = [pos[x][0] for x in B.nodes()]\n",
    "color"
   ]
  },
  {
   "cell_type": "code",
   "execution_count": null,
   "metadata": {},
   "outputs": [],
   "source": [
    "print(B.nodes)"
   ]
  },
  {
   "cell_type": "code",
   "execution_count": null,
   "metadata": {},
   "outputs": [],
   "source": [
    "nx.draw(B, pos, with_labels=True, node_color=color, font_color='r')"
   ]
  },
  {
   "cell_type": "code",
   "execution_count": null,
   "metadata": {},
   "outputs": [],
   "source": [
    "nx.draw(B, with_labels=True, node_color=color, font_color='r')"
   ]
  },
  {
   "cell_type": "markdown",
   "metadata": {},
   "source": [
    "A **(vertex)-coloring** of a graph $G$ is an assignment of (finitely many) colors to the nodes of $G$,\n",
    "so that any two nodes which are connected by an edge have *different* colors.\n",
    "\n",
    "A graph is called **$N$-colorable**, if it has a vertex coloring with (at most) $N$ colors."
   ]
  },
  {
   "cell_type": "markdown",
   "metadata": {},
   "source": [
    "<div class=\"alert alert-danger\">\n",
    "    <b>Theorem.</b> Let $G$ be a graph.  The following are equivalent:\n",
    "<ul>\n",
    "    <li>$G$ is bipartite;</li>\n",
    "    <li>$G$ is $2$-colorable;</li>\n",
    "    <li>each cycle in $G$ has even length.</li>\n",
    "</ul>\n",
    "    (See below for <b>cycle</b> and <b>length</b>)\n",
    "</div>"
   ]
  },
  {
   "cell_type": "markdown",
   "metadata": {},
   "source": [
    "2D grids are naturally bipartite:"
   ]
  },
  {
   "cell_type": "code",
   "execution_count": null,
   "metadata": {},
   "outputs": [],
   "source": [
    "G44 = nx.grid_2d_graph(4, 4)\n",
    "nx.draw(G44)"
   ]
  },
  {
   "cell_type": "markdown",
   "metadata": {},
   "source": [
    "The method `nx.bipartite.color` determines a $2$-coloring of a graph $G$ algorithmically, if it exists, i.e. if\n",
    "$G$ is bipartite."
   ]
  },
  {
   "cell_type": "code",
   "execution_count": null,
   "metadata": {},
   "outputs": [],
   "source": [
    "color = nx.bipartite.color(G44)\n",
    "color"
   ]
  },
  {
   "cell_type": "code",
   "execution_count": null,
   "metadata": {},
   "outputs": [],
   "source": [
    "color = [color[x] for x in G44.nodes()]\n",
    "nx.draw(G44, with_labels=True, node_color=color, font_color='r')"
   ]
  },
  {
   "cell_type": "markdown",
   "metadata": {},
   "source": [
    "### Affiliation Networks and Projections\n",
    "\n",
    "Bipartite graphs arise in practice as models for **affiliation networks**.\n",
    "In such a network, the *black* nodes are people, and the *white* nodes are attributes \n",
    "of the people, such as common interests (books bought online), workplaces, social events attended ...\n",
    "Edges in such network connect people with their attributes.\n",
    "\n",
    "A frequently cited example form the sociology literature (Davis, A., Gardner, B., and \n",
    "Gardner, R. 1941. \n",
    "Deep South.\n",
    "Chicago: University of Chicago Press.) is the **Southern Women Network**.\n",
    "This is a data set of 18 women observed over a nine-month period. During that period, various subsets of these women met in a series of 14 informal social events. The data recorded which women met for which events."
   ]
  },
  {
   "cell_type": "markdown",
   "metadata": {},
   "source": [
    "<img src=\"https://www.researchgate.net/profile/Linton_Freeman/publication/246188409/figure/fig1/AS:298262658600961@1448122767704/Participation-of-the-Southern-Women-in-Events.png\">"
   ]
  },
  {
   "cell_type": "markdown",
   "metadata": {},
   "source": [
    "The resulting bipartite graph on the vertex set consisting of the 18 woman and the 14 events is readily available in `NetworkX`."
   ]
  },
  {
   "cell_type": "code",
   "execution_count": null,
   "metadata": {},
   "outputs": [],
   "source": [
    "G = nx.generators.social.davis_southern_women_graph()\n",
    "list(G.nodes())"
   ]
  },
  {
   "cell_type": "code",
   "execution_count": null,
   "metadata": {},
   "outputs": [],
   "source": [
    "nx.draw(G, **opts)"
   ]
  },
  {
   "cell_type": "code",
   "execution_count": null,
   "metadata": {},
   "outputs": [],
   "source": [
    "color = nx.bipartite.color(G)\n",
    "color = [color[x] for x in G.nodes()]\n",
    "nx.draw(G, with_labels=True, node_color=color, font_color='r')"
   ]
  },
  {
   "cell_type": "markdown",
   "metadata": {},
   "source": [
    "**Note.** The adjacency matrix $A$ of a bipartite graph $G$, with respect to a suitable ordering of the vertices\n",
    "($B$ first, then $W$), has the form of a $2 \\times 2$-block matrix,\n",
    "$$\n",
    "  A = \\left( \\begin{array}{cc} 0 & C \\\\ C^T & 0 \\end{array} \\right)\n",
    "$$\n",
    "where the blocks on the diagonal consist entirely of zeros, as there are no edges between vertices of the same color, and the lower left block is the **transpose** $C^T$ of the matrix $C$ of entries in the upper right. "
   ]
  },
  {
   "cell_type": "code",
   "execution_count": null,
   "metadata": {},
   "outputs": [],
   "source": [
    "A = nx.adjacency_matrix(G)\n",
    "print(A.todense())"
   ]
  },
  {
   "cell_type": "code",
   "execution_count": null,
   "metadata": {},
   "outputs": [],
   "source": [
    "with np.printoptions(threshold=9999):\n",
    "    print(A.todense())"
   ]
  },
  {
   "cell_type": "markdown",
   "metadata": {},
   "source": [
    "In `NetworkX`, all parts of a graph can have **attributes**: the nodes, \n",
    "the edges, and the graph object itself.  Graph object attributes of a graph `G` are stored in the field `G.graph`.  By convention, the two\n",
    "underlying sets of a bipartite graph are stored here as attributes\n",
    "called `'top'` and `'bottom'`."
   ]
  },
  {
   "cell_type": "code",
   "execution_count": null,
   "metadata": {},
   "outputs": [],
   "source": [
    "X, Y = G.graph['top'], G.graph['bottom']\n",
    "C = nx.bipartite.biadjacency_matrix(G, X, Y)\n",
    "print(C.todense())"
   ]
  },
  {
   "cell_type": "markdown",
   "metadata": {},
   "source": [
    "As $A = A^T$, we get\n",
    "\\\\[\n",
    "A^T \\cdot A = A \\cdot A^T = A \\cdot A = \n",
    "\\left(\n",
    "\\begin{array}{cc}\n",
    "C \\cdot C^T & 0 \\\\ 0 & C^T \\cdot C\n",
    "\\end{array}\n",
    "\\right)\n",
    "\\\\]\n",
    "where $C \\cdot C^T$ is the adjacency matrix of the **projection** onto the vertex set $B$,\n",
    "and $C^T \\cdot C$is the adjacency matrix of the **projection** onto the vertex set $W$."
   ]
  },
  {
   "cell_type": "code",
   "execution_count": null,
   "metadata": {},
   "outputs": [],
   "source": [
    "BB = nx.from_numpy_matrix((C*C.transpose()).todense())\n",
    "nx.draw(BB)"
   ]
  },
  {
   "cell_type": "code",
   "execution_count": null,
   "metadata": {},
   "outputs": [],
   "source": [
    "nodes = G.graph['top']\n",
    "mapping = {i: nodes[i] for i in range(len(nodes))}\n",
    "nx.relabel_nodes(BB, mapping, False)\n",
    "nx.draw(BB, **opts)"
   ]
  },
  {
   "cell_type": "code",
   "execution_count": null,
   "metadata": {},
   "outputs": [],
   "source": [
    "BBB = nx.bipartite.projected_graph(G, G.graph['top'])\n",
    "nx.draw(BBB, **opts)"
   ]
  },
  {
   "cell_type": "code",
   "execution_count": null,
   "metadata": {},
   "outputs": [],
   "source": [
    "WWW = nx.bipartite.projected_graph(G, G.graph['bottom'])\n",
    "nx.draw(WWW, **opts)"
   ]
  },
  {
   "cell_type": "code",
   "execution_count": null,
   "metadata": {},
   "outputs": [],
   "source": [
    "print((C*C.transpose()).todense())"
   ]
  },
  {
   "cell_type": "markdown",
   "metadata": {},
   "source": [
    "##  Code Corner"
   ]
  },
  {
   "cell_type": "markdown",
   "metadata": {},
   "source": [
    "### `Numpy`"
   ]
  },
  {
   "cell_type": "markdown",
   "metadata": {},
   "source": [
    "### `networkx`"
   ]
  },
  {
   "cell_type": "markdown",
   "metadata": {},
   "source": [
    "* `relabel_nodes`: [[doc]](https://networkx.github.io/documentation/stable/reference/generated/networkx.relabel.relabel_nodes.html#networkx.relabel.relabel_nodes)"
   ]
  },
  {
   "cell_type": "markdown",
   "metadata": {},
   "source": [
    "## Exercises\n",
    "\n",
    "1. Compute the adjacency matrix of the bipartite graph $B$ at the top \n",
    "of this page and verify its block structure.\n",
    "\n",
    "1. Compute the biadjacency matrix $C$ of the graph $B$.\n",
    "\n",
    "1. Compute the two products of $C$ and its transpose,\n",
    "and, using the products as adjacency matrix, construct two graphs\n",
    "from them.\n",
    "\n",
    "1. Compute the two projections of the bipartite graph $B$ and\n",
    "compare them with the graphs constructed in the previous exercise."
   ]
  },
  {
   "cell_type": "code",
   "execution_count": null,
   "metadata": {},
   "outputs": [],
   "source": []
  }
 ],
 "metadata": {
  "kernelspec": {
   "display_name": "Python 3",
   "language": "python",
   "name": "python3"
  },
  "language_info": {
   "codemirror_mode": {
    "name": "ipython",
    "version": 3
   },
   "file_extension": ".py",
   "mimetype": "text/x-python",
   "name": "python",
   "nbconvert_exporter": "python",
   "pygments_lexer": "ipython3",
   "version": "3.7.6"
  }
 },
 "nbformat": 4,
 "nbformat_minor": 2
}
