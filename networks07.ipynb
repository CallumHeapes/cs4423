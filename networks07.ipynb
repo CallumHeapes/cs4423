{
 "cells": [
  {
   "cell_type": "markdown",
   "metadata": {},
   "source": [
    "### CS4423 - Networks\n",
    "Prof. Götz Pfeiffer<br />\n",
    "School of Mathematics, Statistics and Applied Mathematics<br />\n",
    "NUI Galway"
   ]
  },
  {
   "cell_type": "markdown",
   "metadata": {},
   "source": [
    "# Lecture 7: Shortest Paths? Breadth First Search"
   ]
  },
  {
   "cell_type": "markdown",
   "metadata": {},
   "source": [
    "Sequences of interconnected edges in a graph are called \n",
    "*paths*, leading to notions of *connectivity* and *distance*.  A *tree* is a particularly useful kind of connected graph. \n",
    "Many questions on networks concerning distance\n",
    "or connectivity in a graph can be *algorithmically* answered\n",
    "be a versatile strategy called *Breadth First Search (BFS)*.\n",
    "\n",
    "Start by importing the necessary\n",
    "python libraries into this jupyter notebook."
   ]
  },
  {
   "cell_type": "code",
   "execution_count": null,
   "metadata": {},
   "outputs": [],
   "source": [
    "import networkx as nx\n",
    "import matplotlib.pyplot as plt"
   ]
  },
  {
   "cell_type": "markdown",
   "metadata": {},
   "source": [
    "### Paths\n",
    "\n",
    "The fundamental notion of *connectivity* in a network is closely\n",
    "related to the notion of *paths* in a graph."
   ]
  },
  {
   "cell_type": "markdown",
   "metadata": {},
   "source": [
    "<div class=\"alert\">\n",
    "\n",
    "<b>Definitions.</b>  A <b>path</b> in a graph $G = (X, E)$ is a sequence of nodes, \n",
    "where any pair of consecutive nodes in the sequence is (linked by)\n",
    "an edge in $E$.\n",
    "\n",
    "Such a path can have repeated nodes.  If it doesn't, the path is called a <b>simple path</b>.\n",
    "\n",
    "The <b>length</b> of a path is the number of *edges* it involves\n",
    "(that is the number of *nodes* minus $1$).\n",
    "\n",
    "At each vertex $x \\in X$, there is a unique path of length $0$, \n",
    "the <b>empty path</b>, consisting of vertex $x$ only.\n",
    "\n",
    "A <b>cycle</b> is a path of length at least $3$ that is a simple path,\n",
    "except for the first and the last node being the same.\n",
    "</div>"
   ]
  },
  {
   "cell_type": "code",
   "execution_count": null,
   "metadata": {},
   "outputs": [],
   "source": [
    "nodes = list('ABCDEFGHIJKLM')\n",
    "edges = [\n",
    "    'AB', 'CE', 'FG', 'FH', 'GI', 'GJ', 'HJ', 'HL', 'HM', \n",
    "    'IK', 'JK', 'KL', 'LM'\n",
    "]\n",
    "G = nx.Graph()\n",
    "G.add_nodes_from(nodes)\n",
    "G.add_edges_from(edges)"
   ]
  },
  {
   "cell_type": "code",
   "execution_count": null,
   "metadata": {},
   "outputs": [],
   "source": [
    "nx.draw(G, with_labels = True)"
   ]
  },
  {
   "cell_type": "markdown",
   "metadata": {},
   "source": [
    "$(F, G, I)$ is a path in the graph above, and $(H, J, K, L, H)$ is a cycle"
   ]
  },
  {
   "cell_type": "markdown",
   "metadata": {},
   "source": [
    "A cycle in a simple graph provides, for any two nodes on that\n",
    "cycle, (at least) two different paths from one to the other.\n",
    "\n",
    "Note that each edge (and node) of the 1970 Internet graph belongs to\n",
    "a cycle.  This makes the other way around the cycle an alternative\n",
    "route in case one of the edges should fail.\n",
    "\n",
    "In a *directed* network, paths are directed, too.\n",
    "A path from a vertex $x$ to a vertex $y$ is\n",
    "a sequence of vertices $x = x_0, x_1, \\dots, x_k = y$\n",
    "such that, for any $i = 1, \\dots, k$, there is\n",
    "an edge from $x_{i-1}$ to $x_i$ in the graph.\n",
    "\n"
   ]
  },
  {
   "cell_type": "markdown",
   "metadata": {},
   "source": [
    "### Connected Components\n",
    "\n",
    "Communication and transportation networks tend to be connected, as\n",
    "this is their main purpose: to connect."
   ]
  },
  {
   "cell_type": "markdown",
   "metadata": {},
   "source": [
    "<div class=\"alert\">\n",
    "\n",
    "<b>Definition.</b> A simple graph is <b>connected</b> if, for\n",
    "every pair of nodes, there is a path between them.\n",
    "\n",
    "If a graph is not connected, it naturally breaks into pieces,\n",
    "its <b>connected components</b>.\n",
    "</div>"
   ]
  },
  {
   "cell_type": "markdown",
   "metadata": {},
   "source": [
    "The connected components of the graph below are the\n",
    "node sets $\\{A, B\\}$, $\\{C, E\\}$, $\\{D\\}$, and $\\{F,G,H,I,J,K,L,M\\}$.\n",
    "Note that a component can consist of a single node only."
   ]
  },
  {
   "cell_type": "code",
   "execution_count": null,
   "metadata": {},
   "outputs": [],
   "source": [
    "list(nx.connected_components(G))"
   ]
  },
  {
   "cell_type": "markdown",
   "metadata": {},
   "source": [
    "**Note.** \n",
    "The relation 'there is a path from $x$ to $y$ on the node set $X$ of a\n",
    "graph is the **transitive closure** of the graph relation 'there is an\n",
    "*edge* between $x$ and $y$'.  It is \n",
    "\n",
    "* **reflexive** (as each node $x$ is\n",
    "connected to itself by the zero length path starting and ending at\n",
    "$x$), \n",
    "\n",
    "* **symmetric** (as a path from $x$ to $y$ can be used backwards as\n",
    "a path from $y$ to $x$), \n",
    "\n",
    "* and **transitive** (as a path from $x$ to $y$ and\n",
    "a path from $y$ to $z$ together make up a path from $x$ to $z$), \n",
    "\n",
    "hence\n",
    "an **equivalence relation**.\n",
    "The connected components of the graph are\n",
    "the parts (equivalence classes) of the corresponding **partition** of $X$."
   ]
  },
  {
   "cell_type": "markdown",
   "metadata": {},
   "source": [
    "### Trees\n",
    "\n",
    "Trees appear in the analysis of networks and many other applications."
   ]
  },
  {
   "cell_type": "markdown",
   "metadata": {},
   "source": [
    "<div class=\"alert\">\n",
    "\n",
    "**Definition.** A graph is called **acyclic** if it does not contain\n",
    "any cycles.\n",
    "\n",
    "A **tree** is a connected, acyclic graph.\n",
    "\n",
    "A **forest** is a graph whose connected components are all trees.\n",
    "</div>"
   ]
  },
  {
   "cell_type": "markdown",
   "metadata": {},
   "source": [
    "Trees are naturally bipartite.\n",
    "\n",
    "The (bipartite) graph $B$ from the previous lecture is in fact a tree."
   ]
  },
  {
   "cell_type": "code",
   "execution_count": null,
   "metadata": {},
   "outputs": [],
   "source": [
    "B = nx.Graph([(1,6), (2,6), (2,7), (2,8), (2,9), \n",
    "              (3,9), (4,10), (5,9), (5,10)])\n",
    "nx.draw(B, with_labels=True)"
   ]
  },
  {
   "cell_type": "markdown",
   "metadata": {},
   "source": [
    "<div class=\"alert\">\n",
    "\n",
    "**Theorem.**  Let $G = (X, E)$ be a graph of degree $n = |X|$\n",
    "and size $m = |E|$.\n",
    "Then the following are equivalent:\n",
    "\n",
    "* $G$ is a tree (i.e. acyclic and connected);\n",
    "\n",
    "* $G$ is connected and $m = n-1$;\n",
    "\n",
    "* $G$ is a minimal connected graph (i.e., removing an edge will disconnect $G$);\n",
    "\n",
    "* $G$ is acyclic and $m = n-1$;\n",
    "\n",
    "* $G$ is a maximal acyclic graph (i.e., adding an edge will introduce a cycle in $G$).\n",
    "</div>"
   ]
  },
  {
   "cell_type": "markdown",
   "metadata": {},
   "source": [
    "<div class=\"alert\">\n",
    "\n",
    "**Corollary.** If $G = (X, E)$ is a tree then,\n",
    "for any vertices $x, y \\in X$, there is *exactly one path* from\n",
    "$x$ to $y$ in $G$.\n",
    "</div>"
   ]
  },
  {
   "cell_type": "markdown",
   "metadata": {},
   "source": [
    "### Shortest Paths\n",
    "\n",
    "Recall that a __path__ in a network $G = (X, E)$\n",
    "is a sequence $p = (x_0, x_1, \\dots, x_k)$ of\n",
    "nodes $x_i \\in X$, $i = 0, \\dots, k$, such that any\n",
    "pair of consecutive nodes forms an edge in $G$, i.e.,\n",
    "$\\{x_{i-1}, x_i\\} \\in E$ for all $i = 1, \\dots, k$.\n",
    "The __length__ $l(p)$ of the path $p$ is the\n",
    "number of edges, $l(p) = k$."
   ]
  },
  {
   "cell_type": "markdown",
   "metadata": {},
   "source": [
    "In many practical applications it is of interest to find\n",
    "for a pair $x, y$ of nodes, one or all the paths form $x$ to $y$\n",
    "connecting the two nodes with the fewest number of edges possible.\n",
    "This is a more complex measure on a network than, say, the degree\n",
    "of a node, and  we will need a more complex procedure, that is: an\n",
    "algorithm, in order to answer such questions systematically.\n",
    "Let's start with a proper definition."
   ]
  },
  {
   "cell_type": "markdown",
   "metadata": {},
   "source": [
    "<div class=\"alert\">\n",
    "\n",
    "**Definition.** Let $G = (X, E)$ be a simple graph and let\n",
    "$x, y \\in X$.  Let $P(x, y)$ be the set of all paths from $x$ to $y$.\n",
    "Then the __distance__ $d(x, y)$ from $x$ to $y$ is\n",
    "\n",
    "$$d(x, y) = \\min \\{ l(p) : p \\in P(x, y) \\},$$\n",
    "\n",
    "the shortest possible length of a path from $x$ to $y$, and a __shortest path__ from $x$ to $y$ is a path $p \\in P(x, y)$ of length $l(p) = d(x, y)$.\n",
    "\n",
    "The __diameter__ $\\mathrm{diam}(G)$ of the network $G$ is the length of the longest shortest path between any two nodes,\n",
    "\n",
    "$$\\mathrm{diam}(G) = \\max \\{ d(x, y) : x, y \\in X \\}$$.\n",
    "\n",
    "</div>"
   ]
  },
  {
   "cell_type": "markdown",
   "metadata": {},
   "source": [
    "### Breadth First Search\n",
    "\n",
    "Now we consider the following problem: Given a node $x \\in X$, what\n",
    "are the distances $d(x, y)$ for all nodes $y \\in X$?  A systematic\n",
    "procedure for finding these distances, and the shortest paths through\n",
    "which they are realized, is given by the algorithm which is know in\n",
    "Computer Science as __Breadth First Search__ (BFS)."
   ]
  },
  {
   "cell_type": "markdown",
   "metadata": {},
   "source": [
    "In order to describe the algorithm step by step, let's call a node $y$\n",
    "a __neighbor__ of node $x$, if $\\{x, y\\}$ is an\n",
    "edge, and let's denote by\n",
    "$$N(x) = \\{ y \\in X : \\{x, y\\} \\in E \\}$$\n",
    "the set of all neighbors of node $x$.  The algorithm works through the\n",
    "network layer by layer, starting with the given vertex $x$ at layer\n",
    "$0$ and all its friends at layer $1$. It then finds the friends of the\n",
    "friends at layer $2$, and so on, until every node that can be reached\n",
    "from $x$ by a path has been recorded, taking care that no node gets\n",
    "recorded twice.  The layer of a node then corresponds to its distance\n",
    "from the given node $x$."
   ]
  },
  {
   "cell_type": "markdown",
   "metadata": {},
   "source": [
    "In practice, as in the following example, the layer does not\n",
    "need to be made explicit."
   ]
  },
  {
   "cell_type": "code",
   "execution_count": null,
   "metadata": {},
   "outputs": [],
   "source": [
    "G = nx.read_adjlist(\"bfs.adj\")"
   ]
  },
  {
   "cell_type": "code",
   "execution_count": null,
   "metadata": {},
   "outputs": [],
   "source": [
    "nx.draw(G, with_labels=True)"
   ]
  },
  {
   "cell_type": "code",
   "execution_count": null,
   "metadata": {},
   "outputs": [],
   "source": [
    "for x in G: \n",
    "    G.nodes[x]['seen'] = False"
   ]
  },
  {
   "cell_type": "code",
   "execution_count": null,
   "metadata": {},
   "outputs": [],
   "source": [
    "G.nodes['A']"
   ]
  },
  {
   "cell_type": "code",
   "execution_count": null,
   "metadata": {},
   "outputs": [],
   "source": [
    "seen = []"
   ]
  },
  {
   "cell_type": "code",
   "execution_count": null,
   "metadata": {},
   "outputs": [],
   "source": [
    "seen.append('A')\n",
    "G.nodes['A']['seen'] = True\n",
    "seen"
   ]
  },
  {
   "cell_type": "code",
   "execution_count": null,
   "metadata": {},
   "outputs": [],
   "source": [
    "list(G.neighbors('A'))"
   ]
  },
  {
   "cell_type": "code",
   "execution_count": null,
   "metadata": {},
   "outputs": [],
   "source": [
    "for x in G.neighbors('A'):\n",
    "    seen.append(x)\n",
    "    G.nodes[x]['seen'] = True"
   ]
  },
  {
   "cell_type": "code",
   "execution_count": null,
   "metadata": {},
   "outputs": [],
   "source": [
    "seen"
   ]
  },
  {
   "cell_type": "code",
   "execution_count": null,
   "metadata": {},
   "outputs": [],
   "source": [
    "node = 'B'\n",
    "for x in G.neighbors(node):\n",
    "    if not G.nodes[x]['seen']:\n",
    "        seen.append(x)\n",
    "        G.nodes[x]['seen'] = True\n",
    "seen"
   ]
  },
  {
   "cell_type": "code",
   "execution_count": null,
   "metadata": {},
   "outputs": [],
   "source": [
    "node = 'K'\n",
    "for x in G.neighbors(node):\n",
    "    if not G.nodes[x]['seen']:\n",
    "        seen.append(x)\n",
    "        G.nodes[x]['seen'] = True\n",
    "seen"
   ]
  },
  {
   "cell_type": "markdown",
   "metadata": {},
   "source": [
    "... and so on, until there are no more nodes to be processed."
   ]
  },
  {
   "cell_type": "markdown",
   "metadata": {},
   "source": [
    "When this process is formulated as an algorithm, we use a __queue__\n",
    "(a first-in first-out buffer) to keep track of the node\n",
    "whose neighbors are currently under consideration.\n",
    "A queue is an array of values that comes with two basic operations:\n",
    "* one can __push__ a value to the end of the queue, and\n",
    "* one can __pop__ a value off the top of the queue (provided\n",
    "the queue is not empty).\n",
    "\n",
    "It can be shown that this version of the algorithm\n",
    "in the common case of a sparse network\n",
    "has complexity $O(n)$, which is as good as one could hope for."
   ]
  },
  {
   "cell_type": "markdown",
   "metadata": {},
   "source": [
    "<div class=\"alert\">\n",
    "\n",
    "**Breadth First Search.**\n",
    "Given a simple graph\n",
    "$G = (X, E)$ and a vertex $x \\in X$,\n",
    "determine $d(x, y)$ for all nodes $y \\in X$.\n",
    "\n",
    "1. [Initialize.]  Suppose that $X = \\{x_1, x_2, \\ldots, x_n\\}$\n",
    "and that $x = x_j$.  Set $d_i \\gets \\perp$ (undefined) for $i = 1, \\dots, n$.\n",
    "Set $d_j \\gets 0$ and initialize a queue $Q \\gets (x_j)$.\n",
    "\n",
    "2. [Loop.]\n",
    "While $Q \\neq \\emptyset$:\n",
    "   * pop node $x_k$ off $Q$\n",
    "   * for each neighbor $x_l$ of $x_k$ with $d_l = \\perp$:\n",
    "       * push $x_l$ onto $Q$ and set $d_l \\gets d_k + 1$.\n",
    "\n",
    "3. [Stop.] Return the array $(d_1, \\dots, d_n)$.\n",
    "\n",
    "</div>"
   ]
  },
  {
   "cell_type": "code",
   "execution_count": null,
   "metadata": {},
   "outputs": [],
   "source": [
    "from queue import Queue"
   ]
  },
  {
   "cell_type": "code",
   "execution_count": null,
   "metadata": {},
   "outputs": [],
   "source": [
    "for x in G: \n",
    "    G.nodes[x]['d'] = -1 # undefined\n",
    "\n",
    "x = 'B'\n",
    "G.nodes[x]['d'] = 0\n",
    "q = Queue()\n",
    "q.put(x)"
   ]
  },
  {
   "cell_type": "code",
   "execution_count": null,
   "metadata": {},
   "outputs": [],
   "source": [
    "list(q.queue)"
   ]
  },
  {
   "cell_type": "code",
   "execution_count": null,
   "metadata": {},
   "outputs": [],
   "source": [
    "while not q.empty():\n",
    "    x = q.get()\n",
    "    for y in G.neighbors(x):\n",
    "        if G.nodes[y]['d'] < 0: # undefined?\n",
    "            G.nodes[y]['d'] = G.nodes[x]['d'] + 1\n",
    "            q.put(y)\n",
    "    print(x, \": \", list(q.queue))"
   ]
  },
  {
   "cell_type": "code",
   "execution_count": null,
   "metadata": {},
   "outputs": [],
   "source": [
    "print(list(map(lambda x: G.nodes[x]['d'], G)))"
   ]
  },
  {
   "cell_type": "code",
   "execution_count": null,
   "metadata": {},
   "outputs": [],
   "source": [
    "print(list(G.nodes.data('d')))"
   ]
  },
  {
   "cell_type": "markdown",
   "metadata": {},
   "source": [
    "**Variants.**\n",
    "BFS is an extremely versatile algorithm, which applies in many different\n",
    "situations and can be adapted to produce additional information\n",
    "on a network.\n",
    "\n",
    "For example, BFS run on a node $x$ in a network $G = (X, E)$\n",
    "determines the __connected component__ of $X$ in $G$\n",
    "(as the set of all nodes that get a distance value assigned).\n",
    "\n",
    "With little more work (and an additional array) BFS can produce\n",
    "a __spanning tree__ (or __shortest path tree__).\n",
    "Here, whenever node $x_l$ is pushed onto $Q$, it is assigned\n",
    "the current node $x_k$ (in the additional array)\n",
    "as its predecessor on a shortest path from $x_j$ to $x_l$.\n",
    "The subgraph of the network consisting of these edges is a tree.\n",
    "As a tree, it has exactly one path between the given node $x$\n",
    "and any of its\n",
    "vertices $y$ and, by construction, this path is a shortest path\n",
    "between $x$ and $y$.\n"
   ]
  },
  {
   "cell_type": "code",
   "execution_count": null,
   "metadata": {},
   "outputs": [],
   "source": [
    "for x in G: \n",
    "    G.nodes[x]['d'] = -1 # undefined\n",
    "\n",
    "x = 'A'\n",
    "G.nodes[x]['d'] = 0\n",
    "q = Queue()\n",
    "q.put(x)\n",
    "\n",
    "for e in G.edges:\n",
    "    G.edges[e]['seen'] = False"
   ]
  },
  {
   "cell_type": "code",
   "execution_count": null,
   "metadata": {
    "scrolled": true
   },
   "outputs": [],
   "source": [
    "print(list(G.edges.data()))"
   ]
  },
  {
   "cell_type": "code",
   "execution_count": null,
   "metadata": {},
   "outputs": [],
   "source": [
    "while not q.empty():\n",
    "    x = q.get()\n",
    "    for y in G.neighbors(x):\n",
    "        if G.nodes[y]['d'] < 0: # undefined?\n",
    "            G.nodes[y]['d'] = G.nodes[x]['d'] + 1\n",
    "            q.put(y)\n",
    "            G.edges[x, y]['seen'] = True\n",
    "    print(x, \": \", list(q.queue))"
   ]
  },
  {
   "cell_type": "code",
   "execution_count": null,
   "metadata": {},
   "outputs": [],
   "source": [
    "sub = [e for e in G.edges if G.edges[e]['seen']]"
   ]
  },
  {
   "cell_type": "code",
   "execution_count": null,
   "metadata": {},
   "outputs": [],
   "source": [
    "nx.draw(G.edge_subgraph(sub), with_labels=True)"
   ]
  },
  {
   "cell_type": "markdown",
   "metadata": {},
   "source": [
    "Or, one could highlight the spanning tree inside the graph by using, say,\n",
    "red as color for the spanning edges (and blue for the rest)."
   ]
  },
  {
   "cell_type": "code",
   "execution_count": null,
   "metadata": {},
   "outputs": [],
   "source": [
    "colors = ['red' if G.edges[e]['seen'] else 'blue' for e in G.edges]\n",
    "nx.draw(G, edge_color = colors, with_labels = True, width=2.0)"
   ]
  },
  {
   "cell_type": "markdown",
   "metadata": {},
   "source": [
    "Of course, in order to find distances, or shortest paths\n",
    "between **all pairs** of nodes $x$ and $y$ in a network, one can\n",
    "perform BFS for each of the vertices $x \\in X$ in turn.\n",
    "\n",
    "The algorithm and its variants also works on directed networks,\n",
    "but the results then will have to be interpreted in the context of\n",
    "directed networks.\n",
    "\n",
    "More about BFS can be found in [Newman, Section 10.3].\n"
   ]
  },
  {
   "cell_type": "markdown",
   "metadata": {},
   "source": [
    "### Exercises."
   ]
  },
  {
   "cell_type": "markdown",
   "metadata": {},
   "source": [
    "1. Compute the distances $d(x, y)$ for all vertices $x$ and $y$ in the above graph `G`. \n",
    "1. Hence determine the diameter $\\mathrm{diam}(G)$.\n",
    "1. Construct a (simple) graph $H$ with edges \n",
    "<code><pre>\n",
    "    1-9, 9-3, 9-12, 9-15, 9-2, 9-13, 5-11, 5-14, 5-3, 11-14, \n",
    "    11-4, 14-12, 14-4, 12-15, 15-7, 2-6, 2-7, 13-10, 4-7, 7-8\n",
    "</pre>\n",
    "</code>\n",
    "1. Using BFS, construct a spanning tree of $H$, starting with vertex $1$.\n",
    "1. Compute a matrix $D= (d_{ij})$ with entries\n",
    "$$\n",
    "d_{ij} = d(i, j),\n",
    "$$\n",
    "the distance between nodes $i$ and $j$ in $H$."
   ]
  },
  {
   "cell_type": "code",
   "execution_count": null,
   "metadata": {},
   "outputs": [],
   "source": []
  }
 ],
 "metadata": {
  "kernelspec": {
   "display_name": "Python 3",
   "language": "python",
   "name": "python3"
  },
  "language_info": {
   "codemirror_mode": {
    "name": "ipython",
    "version": 3
   },
   "file_extension": ".py",
   "mimetype": "text/x-python",
   "name": "python",
   "nbconvert_exporter": "python",
   "pygments_lexer": "ipython3",
   "version": "3.7.6"
  }
 },
 "nbformat": 4,
 "nbformat_minor": 2
}
