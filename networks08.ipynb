{
 "cells": [
  {
   "cell_type": "markdown",
   "metadata": {},
   "source": [
    "### CS4423 - Networks\n",
    "Prof. Götz Pfeiffer<br />\n",
    "School of Mathematics, Statistics and Applied Mathematics<br />\n",
    "NUI Galway"
   ]
  },
  {
   "cell_type": "markdown",
   "metadata": {},
   "source": [
    "# Lecture 8: Graph Isomorphism and Symmetries"
   ]
  },
  {
   "cell_type": "markdown",
   "metadata": {},
   "source": [
    "Two graphs $G = (X, E)$ and $H = (Y, F)$ are said to be **isomorphic** if there\n",
    "is an edge preserving bijection between their vertex sets $X$ and $Y$.\n",
    "\n",
    "[Deciding graph isomorphism](https://en.wikipedia.org/wiki/Graph_isomorphism_problem)\n",
    "is computationally hard.\n",
    "\n",
    "An isomorphism of a graph $G$ with itself is called an **automorphism**,\n",
    "or a symmetry of $G$.\n",
    "\n",
    "We will apply BFS to the problem of computing the **group** of all\n",
    "automorphisms of a given tree.\n",
    "\n",
    "Symmetries, or the lack thereof, are interesting properties of networks ...\n",
    "\n",
    "In random selections, for example of trees on $n$ vertices, it turns out that\n",
    "more symmetric species are less frequently picked ... "
   ]
  },
  {
   "cell_type": "code",
   "execution_count": null,
   "metadata": {},
   "outputs": [],
   "source": [
    "import networkx as nx\n",
    "opts = { \"with_labels\": True, \"node_color\": 'y'}"
   ]
  },
  {
   "cell_type": "markdown",
   "metadata": {},
   "source": [
    "**Example.** According to Cayley's formula, there are $4^{4-2} = 16$\n",
    "trees on $n = 4$ vertices.  But overall, we only see $2$\n",
    "distinct structures, a **path graph** of length $3$, and a **star graph**\n",
    "with $3$ spikes.\n",
    "\n",
    "These structures are known as **unlabelled trees**\n",
    "(as opposed to a **labelled tree**, where each node corresponds to\n",
    "a specific element of $\\{0, \\dots, n{-}1\\}$).\n",
    "\n",
    "As a random graph, the path graph occurs far more often than\n",
    "the star graph.  Is something wrong with the assumption of uniform\n",
    "distribution?"
   ]
  },
  {
   "cell_type": "code",
   "execution_count": null,
   "metadata": {},
   "outputs": [],
   "source": [
    "n = 4\n",
    "T = nx.random_tree(n)\n",
    "nx.draw(T)"
   ]
  },
  {
   "cell_type": "markdown",
   "metadata": {},
   "source": [
    "No, there isn't.  It's just that the line **shape** appears more often than the\n",
    "star **shape** in the full list of all **labelled** graphs on 4 points.\n",
    "\n",
    "![4-trees](images/t4.png)"
   ]
  },
  {
   "cell_type": "markdown",
   "metadata": {},
   "source": [
    "## Graph Isomorphism\n",
    "\n",
    "If we are mainly interested in the network **structure**\n",
    "of a graph $G = (X, E)$, the underlying vertex set $X$ is replacable.\n",
    "The following definition makes this notion precise."
   ]
  },
  {
   "cell_type": "markdown",
   "metadata": {
    "slideshow": {
     "slide_type": "fragment"
    }
   },
   "source": [
    "<div class=\"alert alert-danger\">\n",
    "\n",
    "<b>Definition.</b>  \n",
    "    <ul>\n",
    "        <li> \n",
    "            Let $G_1 = (X_1, E_2)$ \n",
    "            and $G_2 = (X_2, E_2)$ be graphs.\n",
    "        </li>\n",
    "        <li>\n",
    "            A **graph isomorphism** from $G_1$ to $G_2$\n",
    "            is a **bijective** map $f \\colon X_1 \\to X_2$\n",
    "            such that $(f(x), f(y))$ is an edge of $G_2$\n",
    "            if and only if $(x, y) \\in E_1$.\n",
    "        </li>\n",
    "        <li>\n",
    "            We say that $G_1$ is isomorphic to $G_2$\n",
    "            (and write $G_1 \\cong G_2$) if\n",
    "            there is a graph isomorphism $f$ from $G_1$ to $G_2$.\n",
    "        </li>\n",
    "        <li>\n",
    "            In the special case where both $X_1$ and $X_2$\n",
    "            are the same set $X$,\n",
    "            a bijection $f \\colon X \\to X$ is called\n",
    "            a **permutation** of $X$.\n",
    "        </li>\n",
    "        <li>\n",
    "            If a permutation $f$ of $X$ is a graph isomorphism\n",
    "            from $G_1 = (X, E_1)$ to $G_2 = (X, E_2)$\n",
    "            then in fact both $E_1$ and $E_2$ are the same edge set $E$\n",
    "            and $f$ is called a **graph automorphism** of the\n",
    "            graph $G = (X, E)$.\n",
    "        </li>\n",
    "    </ul>\n",
    "</div>"
   ]
  },
  {
   "cell_type": "markdown",
   "metadata": {},
   "source": [
    "<div class=\"alert alert-success\">\n",
    "\n",
    "**Examples.** \n",
    "    \n",
    "* Consider the bijection $f(0) = A$, $f(1) = B$, $f(2) = C$,\n",
    "    or $f = (^0_A{}^1_B{}^2_C)$ for short.\n",
    "    \n",
    "* $f$ is a graph isomorphism\n",
    "    from a graph $G$: $0 - 1 - 2$ to a graph $H$: $A - B - C$.\n",
    "\n",
    "* But not from $G$ to $K: C - A - B$: the $f$-image of the edge\n",
    "    $1 - 2$ in $G$ is not an edge in $K$.\n",
    "    \n",
    "* The permutation $(^{0\\,1\\,2}_{2\\,1\\,0})$\n",
    "    is a graph automorphism of $G$.\n",
    "    \n",
    "* And so is the **identity permutation** $(^{0\\,1\\,2}_{0\\,1\\,2})$.\n",
    "    \n",
    "* But not the permutation $(^{0\\,1\\,2}_{1\\,0\\,2})$.\n",
    "    \n",
    "</div>"
   ]
  },
  {
   "cell_type": "markdown",
   "metadata": {},
   "source": [
    "* Any bijection $f \\colon X \\to Y$ can be used to produce an **isomorphic copy** of a graph $G = (X, E)$.\n",
    "\n",
    "* It takes some care to decide **equality** of graphs.\n",
    "(Apparently, `networkx` does not have a function for that ...)"
   ]
  },
  {
   "cell_type": "code",
   "execution_count": null,
   "metadata": {},
   "outputs": [],
   "source": [
    "G = nx.Graph([(1,2)])\n",
    "H = nx.Graph([(2,1)])"
   ]
  },
  {
   "cell_type": "code",
   "execution_count": null,
   "metadata": {},
   "outputs": [],
   "source": [
    "print(list(G.edges()), list(H.edges()))"
   ]
  },
  {
   "cell_type": "code",
   "execution_count": null,
   "metadata": {},
   "outputs": [],
   "source": [
    "def normalized_edges(G):\n",
    "    return tuple(sorted(tuple(set(e)) for e in G.edges()))"
   ]
  },
  {
   "cell_type": "code",
   "execution_count": null,
   "metadata": {},
   "outputs": [],
   "source": [
    "def are_equal_as_graphs(G, H):\n",
    "    if set(G.nodes()) != set(H.nodes()):\n",
    "        return false\n",
    "    return normalized_edges(G) == normalized_edges(H)"
   ]
  },
  {
   "cell_type": "code",
   "execution_count": null,
   "metadata": {},
   "outputs": [],
   "source": [
    "are_equal_as_graphs(G, H)"
   ]
  },
  {
   "cell_type": "code",
   "execution_count": null,
   "metadata": {},
   "outputs": [],
   "source": [
    "T = nx.random_tree(n)\n",
    "nx.draw(T, **opts)"
   ]
  },
  {
   "cell_type": "markdown",
   "metadata": {},
   "source": [
    "*  **Note:** the automorphisms of a graph form a **group**.\n",
    "\n",
    "<div class=\"alert alert-success\">\n",
    "\n",
    "Recall that a **group** is a set $S$ together with a special **identity** element $e \\in S$, an **inversion** map $i \\colon S \\to S$ and a **multiplication** map\n",
    "$m \\colon S \\times S \\to S$ such that\n",
    "* $m(m(a,b),c) = m(a, m(b, c))$ for all $a, b, c \\in S$: multiplication is associative;\n",
    "* $m(a, i(a)) = m(i(a), a) = e$ for all $a \\in S$;\n",
    "* $m(e, a) = m(a, e) = a$ for all $a \\in S$.\n",
    "</div>"
   ]
  },
  {
   "cell_type": "markdown",
   "metadata": {},
   "source": [
    "**Example:** The **symmetric group** $S_n$ of all permutations of the $n$-set\n",
    "$X = \\{0, 1, 2, \\dots, n-1\\}$."
   ]
  },
  {
   "cell_type": "markdown",
   "metadata": {},
   "source": [
    "<div class=\"alert alert-danger\">\n",
    "\n",
    "**Definition**.  A **group action** of a group $S$ on a set $X$\n",
    "is a map $S \\times X \\to X$, mapping $(s, x) \\mapsto s(x)$,\n",
    "such that\n",
    "* $e(x) = e$ for all $x \\in X$;\n",
    "* $b(a(x)) = m(b, a)(x)$ for all $a, b \\in S$, and all $x \\in X$.\n",
    "</div>"
   ]
  },
  {
   "cell_type": "markdown",
   "metadata": {},
   "source": [
    "**Example:** $S_n$ acts on $X = \\{0, \\dots, n-1\\}$."
   ]
  },
  {
   "cell_type": "markdown",
   "metadata": {},
   "source": [
    "If a group $S$ acts on a set $X$ then to each point $x \\in X$ are associated\n",
    "* its **orbit** $S(x) = \\{s(x) : s \\in S\\} \\subseteq X$;\n",
    "* its **stablizer** $S_x = \\{ s \\in S : s(x) = x \\} \\subseteq S$.\n",
    "\n",
    "The stablizer $S_x$ is a **subgroup** of $S$."
   ]
  },
  {
   "cell_type": "markdown",
   "metadata": {},
   "source": [
    "<div class=\"alert alert-success\">\n",
    "\n",
    "**Orbit-Stablizer Theorem.**  $|S_x| \\cdot |S(x)| = |S|$ for all $x \\in X$.\n",
    "</div>"
   ]
  },
  {
   "cell_type": "markdown",
   "metadata": {},
   "source": [
    "* $S_n$ acts on trees with vertex set $X$  by **relabelling** the nodes.\n",
    "* $S_n$ is generated by the **transpositions** of \n",
    "  consecutive numbers: $k \\leftrightarrow k+1$.\n",
    "* This generating set defines a **graph** on the set of all trees on $X$.\n",
    "* The connected component (unlabelled graph) of a tree `T` can\n",
    "  be constructed by BFS as the **orbit** of `T` under the $S_n$-action.\n",
    "* As a by-product, the **automorphism group** of is determined\n",
    "as the **stabilizer** of `T`."
   ]
  },
  {
   "cell_type": "markdown",
   "metadata": {},
   "source": [
    "## Permutations as Tuples\n",
    "\n",
    "*  A permutation $f$ of $X = \\{0, \\dots, n-1\\}$\n",
    "can be represented as a python tuple `t` of length $n$,\n",
    "with the understanding that `t[i]` represents\n",
    "$f(i)$ for $i\\ in X$.\n",
    "\n",
    "* **Don't confuse `python` tuples with the usual cycle notation for permutations!!**\n",
    "\n",
    "* Here, the tuples are **image lists**."
   ]
  },
  {
   "cell_type": "markdown",
   "metadata": {},
   "source": [
    "* The **identity** permutation $f(x) = x$:"
   ]
  },
  {
   "cell_type": "code",
   "execution_count": null,
   "metadata": {},
   "outputs": [],
   "source": [
    "def identity(n):\n",
    "    return tuple(k for k in range(n))"
   ]
  },
  {
   "cell_type": "code",
   "execution_count": null,
   "metadata": {},
   "outputs": [],
   "source": [
    "one = identity(n)\n",
    "one"
   ]
  },
  {
   "cell_type": "markdown",
   "metadata": {},
   "source": [
    "* The **transposition** $i \\leftrightarrow i{+}1$:"
   ]
  },
  {
   "cell_type": "code",
   "execution_count": null,
   "metadata": {},
   "outputs": [],
   "source": [
    "def transposition(n, i):\n",
    "    t = [k for k in range(n)]\n",
    "    t[i], t[i+1] = t[i+1], t[i]\n",
    "    return tuple(t)"
   ]
  },
  {
   "cell_type": "code",
   "execution_count": null,
   "metadata": {},
   "outputs": [],
   "source": [
    "t1 = transposition(n, 1)\n",
    "t2 = transposition(n, 2)\n",
    "print(t1, t2)"
   ]
  },
  {
   "cell_type": "markdown",
   "metadata": {},
   "source": [
    "* **Composition** of `dict`s:  $(g \\circ f)(x) = g(f(x))$."
   ]
  },
  {
   "cell_type": "code",
   "execution_count": null,
   "metadata": {},
   "outputs": [],
   "source": [
    "def composition(a, b):\n",
    "    return tuple(a[k] for k in b)"
   ]
  },
  {
   "cell_type": "markdown",
   "metadata": {},
   "source": [
    "* $\\bigl({}^{0123}_{0213}\\bigr) \\circ \\bigl({}^{0123}_{0132}\\bigr) \n",
    "= \\bigl({}^{0123}_{0231}\\bigr)$,\n",
    "\n",
    "\n",
    "* $\\bigl({}^{0123}_{0132}\\bigr) \\circ \\bigl({}^{0123}_{0213}\\bigr)\n",
    "= \\bigl({}^{0123}_{0312}\\bigr)$."
   ]
  },
  {
   "cell_type": "code",
   "execution_count": null,
   "metadata": {},
   "outputs": [],
   "source": [
    "t12 = composition(t1, t2)\n",
    "t12"
   ]
  },
  {
   "cell_type": "code",
   "execution_count": null,
   "metadata": {},
   "outputs": [],
   "source": [
    "t21 = composition(t2, t1)\n",
    "t21"
   ]
  },
  {
   "cell_type": "markdown",
   "metadata": {},
   "source": [
    "* **Inversion:** $f^{-1}(y) = x \\iff f(x) = y$."
   ]
  },
  {
   "cell_type": "code",
   "execution_count": null,
   "metadata": {},
   "outputs": [],
   "source": [
    "def inverse(a):\n",
    "    b = list(a)\n",
    "    for k, v in enumerate(a):\n",
    "        b[v] = k\n",
    "    return tuple(b)"
   ]
  },
  {
   "cell_type": "markdown",
   "metadata": {},
   "source": [
    "* $\\bigl({}^{0123}_{0312}\\bigr)^{-1}\n",
    "= \\bigl({}^{0123}_{0231}\\bigr)$"
   ]
  },
  {
   "cell_type": "code",
   "execution_count": null,
   "metadata": {},
   "outputs": [],
   "source": [
    "inverse(t21)"
   ]
  },
  {
   "cell_type": "code",
   "execution_count": null,
   "metadata": {},
   "outputs": [],
   "source": [
    "inverse(t21) == t12"
   ]
  },
  {
   "cell_type": "markdown",
   "metadata": {},
   "source": [
    "* The **symmetric group** $S_n$ of all permutations of $X = \\{0, 1, \\dots, n-1\\}$ is generated by the transpositions $(i, i{+}1)$, $i = 0, \\dots, n-2$."
   ]
  },
  {
   "cell_type": "code",
   "execution_count": null,
   "metadata": {},
   "outputs": [],
   "source": [
    "gens = [transposition(n, k) for k in range(n-1)]\n",
    "gens"
   ]
  },
  {
   "cell_type": "markdown",
   "metadata": {},
   "source": [
    "* **BFS** can enumerate the orbit of a point $x$ under a list of generators of the acting group.\n",
    "* This variant of BFS is called the **orbit algorithm** in Computational Group Theory.\n",
    "* The `python` function `orbit` takes as its arguments:\n",
    "    - a list `gens` of generators of a group $S$\n",
    "    - the point `x` from $X$\n",
    "    - a function `action` describing the action $S \\times X \\to X$\n",
    "    - and a function `equals` for testing equality in $X$."
   ]
  },
  {
   "cell_type": "markdown",
   "metadata": {},
   "source": [
    "* In many cases, the standard `python` equals operator will work as equality test:"
   ]
  },
  {
   "cell_type": "code",
   "execution_count": null,
   "metadata": {},
   "outputs": [],
   "source": [
    "def eq(x, y):\n",
    "    return x == y"
   ]
  },
  {
   "cell_type": "markdown",
   "metadata": {},
   "source": [
    "* The action of permutations as tuples is simply indexing:"
   ]
  },
  {
   "cell_type": "code",
   "execution_count": null,
   "metadata": {},
   "outputs": [],
   "source": [
    "def apply(a, x):\n",
    "    return a[x]"
   ]
  },
  {
   "cell_type": "markdown",
   "metadata": {},
   "source": [
    "* With `eq` as an example for the `equals` parameter, and `apply` for `action` in mind,\n",
    "  here is the orbit algorithm as a loop (over `gens`) within a loop (over the growing orbit `xxx`)."
   ]
  },
  {
   "cell_type": "code",
   "execution_count": null,
   "metadata": {},
   "outputs": [],
   "source": [
    "def orbit(gens, x, action, equals):\n",
    "    xxx = [x]\n",
    "    for y in xxx:\n",
    "        for a in gens:\n",
    "            z = action(a, y)\n",
    "            w = next((v for v in xxx if equals(v, z)), None)\n",
    "            if w is None:\n",
    "                xxx.append(z)\n",
    "    return xxx"
   ]
  },
  {
   "cell_type": "markdown",
   "metadata": {},
   "source": [
    "* For example, the orbit of a single point $x \\in \\{0, \\dots, n-1\\}$\n",
    "under the action of the symmetric group $S_n$ (which of course is all of $X$)\n",
    "can now be computed as follows:"
   ]
  },
  {
   "cell_type": "code",
   "execution_count": null,
   "metadata": {},
   "outputs": [],
   "source": [
    "orbit(gens, 1, apply, eq)"
   ]
  },
  {
   "cell_type": "markdown",
   "metadata": {},
   "source": [
    "* Or, regarding composition $S \\times S \\to S$ as an action of $S$ on itself\n",
    "(check the definition!), one can enumerate the $n!$ elements of $S_n$:"
   ]
  },
  {
   "cell_type": "code",
   "execution_count": null,
   "metadata": {},
   "outputs": [],
   "source": [
    "elements = orbit(gens, one, composition, eq)\n",
    "len(elements)"
   ]
  },
  {
   "cell_type": "code",
   "execution_count": null,
   "metadata": {},
   "outputs": [],
   "source": [
    "print(elements)"
   ]
  },
  {
   "cell_type": "markdown",
   "metadata": {},
   "source": [
    "## Orbits of Isomorphic Trees\n",
    "\n",
    "* The process of **relabelling** the nodes of a graph with vertex set\n",
    "  $X$ by permutations of $X$ defines an **action** of $S_n$\n",
    "  on the set of all labelled trees on $X$."
   ]
  },
  {
   "cell_type": "code",
   "execution_count": null,
   "metadata": {},
   "outputs": [],
   "source": [
    "def relabel(a, G):\n",
    "    mapping = dict(enumerate(a))\n",
    "    return nx.relabel_nodes(G, mapping)"
   ]
  },
  {
   "cell_type": "markdown",
   "metadata": {},
   "source": [
    "* $1_X(T) = T$ and $(g \\circ f)(T) = g(f(T))$ for each tree $T$\n",
    "  with vertex set $X$."
   ]
  },
  {
   "cell_type": "code",
   "execution_count": null,
   "metadata": {},
   "outputs": [],
   "source": [
    "G = nx.path_graph(n)\n",
    "G12 = relabel(t2, relabel(t1, G))\n",
    "print(list(G12.nodes()))\n",
    "GG = relabel(t21, G)\n",
    "print(list(GG.nodes()))"
   ]
  },
  {
   "cell_type": "markdown",
   "metadata": {},
   "source": [
    "*  Using `relabel` as action, and `are_equal_as_graphs` as equality check,\n",
    "the above orbit algorithm finds the \n",
    "orbit of a tree $T$ under $S_n$,\n",
    "i.e., the list of **all trees** on the vertex set $X$ that are **isomorphic** to $T$."
   ]
  },
  {
   "cell_type": "code",
   "execution_count": null,
   "metadata": {},
   "outputs": [],
   "source": [
    "nx.draw(T, **opts)"
   ]
  },
  {
   "cell_type": "code",
   "execution_count": null,
   "metadata": {},
   "outputs": [],
   "source": [
    "TTT = orbit(gens, T, relabel, are_equal_as_graphs)"
   ]
  },
  {
   "cell_type": "code",
   "execution_count": null,
   "metadata": {},
   "outputs": [],
   "source": [
    "len(TTT)"
   ]
  },
  {
   "cell_type": "markdown",
   "metadata": {},
   "source": [
    "**Graph and Queue version:**"
   ]
  },
  {
   "cell_type": "markdown",
   "metadata": {},
   "source": [
    "* Implicitly, the action of a group $S$ on a set $X$, with respect to\n",
    "a set $A$ of generators of $S$, defines an **action graph** with vertex\n",
    "set $X$, and edges $(x, y)$ whenever there is an element $a \\in A$\n",
    "with $a(x) = y$.\n",
    "* Here, we need to supply and manage an explicit queue for the BFS. "
   ]
  },
  {
   "cell_type": "code",
   "execution_count": null,
   "metadata": {},
   "outputs": [],
   "source": [
    "from queue import Queue"
   ]
  },
  {
   "cell_type": "markdown",
   "metadata": {},
   "source": [
    "* We turn the simultaneous initialization of the queus and the graph into a small subroutine."
   ]
  },
  {
   "cell_type": "code",
   "execution_count": null,
   "metadata": {},
   "outputs": [],
   "source": [
    "def init_Q_G(x):\n",
    "    Q = Queue()\n",
    "    Q.put(x)\n",
    "    G = nx.Graph()\n",
    "    G.add_node(x)\n",
    "    return Q, G"
   ]
  },
  {
   "cell_type": "markdown",
   "metadata": {},
   "source": [
    "* `action_graph` is a variant of the above `orbit` function \n",
    "that has the same set of parameters, and computes and returns the orbit\n",
    "of $x$ as a graph."
   ]
  },
  {
   "cell_type": "code",
   "execution_count": null,
   "metadata": {},
   "outputs": [],
   "source": [
    "def action_graph(gens, x, action, equals):\n",
    "    Q, G = init_Q_G(x)\n",
    "    while not Q.empty():\n",
    "        y = Q.get()\n",
    "        for a in gens:\n",
    "            z = action(a, y)\n",
    "            w = next((v for v in G.nodes() if equals(v, z)), None)\n",
    "            if w is None:\n",
    "                Q.put(z)\n",
    "                G.add_node(z)\n",
    "                G.add_edge(y, z)\n",
    "            else:\n",
    "                G.add_edge(y, w)\n",
    "    return G"
   ]
  },
  {
   "cell_type": "markdown",
   "metadata": {},
   "source": [
    "* For example, the graph of the action of $S_n$ on $X = \\{0, \\dots, n-1\\}$."
   ]
  },
  {
   "cell_type": "code",
   "execution_count": null,
   "metadata": {},
   "outputs": [],
   "source": [
    "G = action_graph(gens, 1, apply, eq)\n",
    "nx.draw(G, **opts)"
   ]
  },
  {
   "cell_type": "markdown",
   "metadata": {},
   "source": [
    "* For example, the action of $S_n$ on its own elements"
   ]
  },
  {
   "cell_type": "code",
   "execution_count": null,
   "metadata": {},
   "outputs": [],
   "source": [
    "G = action_graph(gens, one, composition, eq)\n",
    "nx.draw(G, **opts)"
   ]
  },
  {
   "cell_type": "markdown",
   "metadata": {},
   "source": [
    "* For example, the action of $S_n$ on trees with vertex set $X$"
   ]
  },
  {
   "cell_type": "code",
   "execution_count": null,
   "metadata": {},
   "outputs": [],
   "source": [
    "G = action_graph(gens, T, relabel, are_equal_as_graphs)\n",
    "nx.draw(G, **opts)"
   ]
  },
  {
   "cell_type": "markdown",
   "metadata": {},
   "source": [
    "![4-trees](images/t4-action.png)"
   ]
  },
  {
   "cell_type": "markdown",
   "metadata": {},
   "source": [
    "**Transversal tree.**\n",
    "\n",
    "* A **transversal** is a list of group elements $f_y$, one for each $y$\n",
    "in the orbit of $x$ such that $f_y(x) = y$ (and $f_x = e$).\n",
    "\n",
    "* The next variant of BFS computes such a transversal in the form of `\"perm\"`\n",
    "attributes of the nodes of a **spanning tree** of the action graph.\n",
    "\n",
    "* This essentially uses the group to measure the **distance** from $x$."
   ]
  },
  {
   "cell_type": "code",
   "execution_count": null,
   "metadata": {},
   "outputs": [],
   "source": [
    "def transversal_tree(gens, x, action, equals):\n",
    "    Q, G = init_Q_G(x)\n",
    "    G.nodes[x]['perm'] = identity(len(gens[0]))\n",
    "    while not Q.empty():\n",
    "        y = Q.get()\n",
    "        for a in gens:\n",
    "            z = action(a, y)\n",
    "            w = next((v for v in G.nodes() if equals(v, z)), None)\n",
    "            if w is None:\n",
    "                Q.put(z)\n",
    "                G.add_node(z)\n",
    "                G.add_edge(y, z)\n",
    "                G.nodes[z]['perm'] = composition(a, G.nodes[y]['perm'])\n",
    "    return G"
   ]
  },
  {
   "cell_type": "code",
   "execution_count": null,
   "metadata": {},
   "outputs": [],
   "source": [
    "G = transversal_tree(gens, 1, apply, eq)\n",
    "nx.get_node_attributes(G, 'perm')"
   ]
  },
  {
   "cell_type": "code",
   "execution_count": null,
   "metadata": {},
   "outputs": [],
   "source": [
    "G = transversal_tree(gens, one, composition, eq)\n",
    "nx.get_node_attributes(G, 'perm')"
   ]
  },
  {
   "cell_type": "code",
   "execution_count": null,
   "metadata": {},
   "outputs": [],
   "source": [
    "G = transversal_tree(gens, T, relabel, are_equal_as_graphs)\n",
    "nx.get_node_attributes(G, 'perm')"
   ]
  },
  {
   "cell_type": "markdown",
   "metadata": {},
   "source": [
    "**Automorphisms.**\n",
    "\n",
    "* The stabilizer $S(x)$ of a point $x \\in X$ is generated by loops in\n",
    "the action graph.\n",
    "\n",
    "* More precisely, there is the following theorem, aka \n",
    "[Schreier's subgroup lemma](https://en.wikipedia.org/wiki/Schreier%27s_lemma).\n",
    "\n",
    "<div class=\"alert alert-danger\">\n",
    "\n",
    "**Theorem.**\n",
    "Suppose a group $S$, generated by a set $A$,\n",
    "acts on a set $X$ and that $\\{f_y : y \\in S(x)\\}$ is a transversal\n",
    "of the orbit of $x \\in X$.  Then\n",
    "$$\n",
    "\\{f_{a(y)}^{-1} \\circ a \\circ f_y: a \\in A,\\, y \\in S(x)\\}\n",
    "$$\n",
    "is a set of generators for the stabilizer $S_x$.\n",
    "</div>"
   ]
  },
  {
   "cell_type": "code",
   "execution_count": null,
   "metadata": {},
   "outputs": [],
   "source": [
    "def automorphisms(gens, x, action, equals):\n",
    "    Q, G = init_Q_G(x)\n",
    "    G.nodes[x]['perm'] = identity(len(gens[0]))\n",
    "    autos = set()\n",
    "    while not Q.empty():\n",
    "        y = Q.get()\n",
    "        for a in gens:\n",
    "            z = action(a, y)\n",
    "            w = next((v for v in G.nodes() if equals(v, z)), None)\n",
    "            if w is None:\n",
    "                Q.put(z)\n",
    "                G.add_node(z)\n",
    "                G.add_edge(y, z)\n",
    "                G.nodes[z]['perm'] = composition(a, G.nodes[y]['perm'])\n",
    "            else:\n",
    "                ay = composition(a, G.nodes[y]['perm'])\n",
    "                loop = composition(inverse(G.nodes[w]['perm']), ay)\n",
    "                autos.add(loop)\n",
    "    return list(autos)"
   ]
  },
  {
   "cell_type": "markdown",
   "metadata": {},
   "source": [
    "For example, $S_n$ acting on $\\{0,\\dots,n{-}1\\}$:"
   ]
  },
  {
   "cell_type": "code",
   "execution_count": null,
   "metadata": {},
   "outputs": [],
   "source": [
    "aut = automorphisms(gens, 1, apply, eq)\n",
    "aut"
   ]
  },
  {
   "cell_type": "code",
   "execution_count": null,
   "metadata": {},
   "outputs": [],
   "source": [
    "orbit(aut, one, composition, eq)"
   ]
  },
  {
   "cell_type": "markdown",
   "metadata": {},
   "source": [
    "For example, $S_n$ acting by composition (multiplication) on itself:"
   ]
  },
  {
   "cell_type": "code",
   "execution_count": null,
   "metadata": {},
   "outputs": [],
   "source": [
    "aut = automorphisms(gens, one, composition, eq)\n",
    "aut"
   ]
  },
  {
   "cell_type": "markdown",
   "metadata": {},
   "source": [
    "For example, $S_n$ acting on $n$-trees:"
   ]
  },
  {
   "cell_type": "code",
   "execution_count": null,
   "metadata": {},
   "outputs": [],
   "source": [
    "aut = automorphisms(gens, T, relabel, are_equal_as_graphs)\n",
    "aut"
   ]
  },
  {
   "cell_type": "code",
   "execution_count": null,
   "metadata": {},
   "outputs": [],
   "source": [
    "orbit(aut, one, composition, eq)"
   ]
  },
  {
   "cell_type": "code",
   "execution_count": null,
   "metadata": {},
   "outputs": [],
   "source": [
    "n = 6\n",
    "gens = [transposition(n, k) for k in range(n-1)]"
   ]
  },
  {
   "cell_type": "code",
   "execution_count": null,
   "metadata": {},
   "outputs": [],
   "source": [
    "T = nx.random_tree(n)\n",
    "nx.draw(T, **opts)"
   ]
  },
  {
   "cell_type": "code",
   "execution_count": null,
   "metadata": {},
   "outputs": [],
   "source": [
    "aut = automorphisms(gens, T, relabel, are_equal_as_graphs)\n",
    "aut"
   ]
  },
  {
   "cell_type": "code",
   "execution_count": null,
   "metadata": {},
   "outputs": [],
   "source": [
    "orbit(aut, identity(n), composition, eq)"
   ]
  },
  {
   "cell_type": "markdown",
   "metadata": {},
   "source": [
    "##  Code Corner"
   ]
  },
  {
   "cell_type": "markdown",
   "metadata": {},
   "source": [
    "### `python`"
   ]
  },
  {
   "cell_type": "markdown",
   "metadata": {},
   "source": [
    "* `sorted` [doc]\n",
    "* `tuple` [doc]\n",
    "* `set` [doc]\n",
    "* `next` [doc]\n",
    "* `[].pop` [doc]\n",
    "* `{}.keys` [doc]\n",
    "* `{}.values` [doc]\n",
    "* `{}.items` [doc]"
   ]
  },
  {
   "cell_type": "markdown",
   "metadata": {},
   "source": [
    "### `networkx`"
   ]
  },
  {
   "cell_type": "markdown",
   "metadata": {},
   "source": [
    "* `relabel_nodes`\n",
    "* `path_graph`"
   ]
  },
  {
   "cell_type": "markdown",
   "metadata": {},
   "source": [
    "## Exercises\n",
    "\n",
    "1.  How many unlabelled trees are there on $n = 5$ vertices?\n",
    "   What (sizes) are their automorphism groups?\n",
    "\n",
    "2. $n = 6$?"
   ]
  },
  {
   "cell_type": "code",
   "execution_count": null,
   "metadata": {},
   "outputs": [],
   "source": []
  }
 ],
 "metadata": {
  "kernelspec": {
   "display_name": "Python 3",
   "language": "python",
   "name": "python3"
  },
  "language_info": {
   "codemirror_mode": {
    "name": "ipython",
    "version": 3
   },
   "file_extension": ".py",
   "mimetype": "text/x-python",
   "name": "python",
   "nbconvert_exporter": "python",
   "pygments_lexer": "ipython3",
   "version": "3.7.6"
  }
 },
 "nbformat": 4,
 "nbformat_minor": 1
}
