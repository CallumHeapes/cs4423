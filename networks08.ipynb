{
 "cells": [
  {
   "cell_type": "markdown",
   "metadata": {},
   "source": [
    "### CS4423 - Networks\n",
    "Prof. Götz Pfeiffer<br />\n",
    "School of Mathematics, Statistics and Applied Mathematics<br />\n",
    "NUI Galway"
   ]
  },
  {
   "cell_type": "markdown",
   "metadata": {},
   "source": [
    "# Lecture 8: Graph Isomorphism and Symmetries"
   ]
  },
  {
   "cell_type": "markdown",
   "metadata": {},
   "source": [
    "Symmetries, or the lack thereof, are interesting properties of networks ..."
   ]
  },
  {
   "cell_type": "markdown",
   "metadata": {},
   "source": [
    "According to Cayley's formula, there are $4^{4-2} = 16$\n",
    "trees on $n = 4$ vertices.  But overall, we only see $2$\n",
    "distinct structures, a path of length $3$, and a star graph\n",
    "with $3$ spikes."
   ]
  },
  {
   "cell_type": "code",
   "execution_count": null,
   "metadata": {},
   "outputs": [],
   "source": [
    "import networkx as nx\n",
    "import matplotlib.pyplot as plt\n",
    "opts = { \"with_labels\": True, \"node_color\": 'y'}"
   ]
  },
  {
   "cell_type": "markdown",
   "metadata": {},
   "source": [
    "As a random graph, the path graph occurs far more often than\n",
    "the star graph.  Is something wrong with the assumption of uniform\n",
    "distribution?"
   ]
  },
  {
   "cell_type": "code",
   "execution_count": null,
   "metadata": {},
   "outputs": [],
   "source": [
    "T = nx.random_tree(4)\n",
    "nx.draw(T)"
   ]
  },
  {
   "cell_type": "markdown",
   "metadata": {},
   "source": [
    "## Graph Isomorphism\n",
    "\n",
    "If we are mainly interested in the network **structure**\n",
    "of a graph $G = (X, E)$, the underlying vertex set $X$ is replacable.\n",
    "The following definition makes this notion precise."
   ]
  },
  {
   "cell_type": "markdown",
   "metadata": {
    "slideshow": {
     "slide_type": "fragment"
    }
   },
   "source": [
    "<div class=\"alert alert-danger\">\n",
    "<b>Definition.</b>  \n",
    "    <ul>\n",
    "        <li> \n",
    "            Let $G_1 = (X_1, E_2)$ \n",
    "            and $G_2 = (X_2, E_2)$ be graphs.\n",
    "        </li>\n",
    "        <li>\n",
    "            A **graph isomorphism** from $G_1$ to $G_2$\n",
    "            is a **bijective** map $f \\colon X_1 \\to X_2$\n",
    "            such that $(f(x), f(y))$ is an edge of $G_2$\n",
    "            if and only if $(x, y) \\in E_1$.\n",
    "        </li>\n",
    "        <li>\n",
    "            We say that $G_1$ is isomorphic to $G_2$\n",
    "            (and write $G_1 \\equiv G_2$) if\n",
    "            there is a graph isomorphism $f$ from $G_1$ to $G_2$.\n",
    "        </li>\n",
    "        <li>\n",
    "            In the special case where both $X_1$ and $X_2$\n",
    "            are the same set $X$,\n",
    "            a bijection $f \\colon X \\to X$ is called\n",
    "            a **permutation** of $X$.\n",
    "        </li>\n",
    "        <li>\n",
    "            If a permutation $f$ of $X$ is a graph isomorphism\n",
    "            from $G_1 = (X, E_1)$ to $G_2 = (X, E_2)$\n",
    "            then in fact $E_1 = E_2 =: E$\n",
    "            and $f$ is called a **graph automorphism** of the\n",
    "            graph $G:= G_1 = G_2$.\n",
    "        </li>\n",
    "    </ul>\n",
    "</div>"
   ]
  },
  {
   "cell_type": "markdown",
   "metadata": {},
   "source": [
    "* **Examples.** ..."
   ]
  },
  {
   "cell_type": "markdown",
   "metadata": {},
   "source": [
    "*  **Note:** the automorphisms of a graph form a **group**."
   ]
  },
  {
   "cell_type": "markdown",
   "metadata": {},
   "source": [
    "Any bijection $f \\colon X \\to Y$ can be used to produce an **isomorphic copy** of a graph $G = (X, E)$"
   ]
  },
  {
   "cell_type": "code",
   "execution_count": null,
   "metadata": {},
   "outputs": [],
   "source": [
    "G = nx.Graph([(1,2)])\n",
    "H = nx.Graph([(2,1)])"
   ]
  },
  {
   "cell_type": "code",
   "execution_count": null,
   "metadata": {},
   "outputs": [],
   "source": [
    "print(list(G.edges()), list(H.edges()))"
   ]
  },
  {
   "cell_type": "code",
   "execution_count": null,
   "metadata": {},
   "outputs": [],
   "source": [
    "def normalized_edges(G):\n",
    "    return tuple(sorted(tuple(set(e)) for e in G.edges()))"
   ]
  },
  {
   "cell_type": "code",
   "execution_count": null,
   "metadata": {},
   "outputs": [],
   "source": [
    "def are_equal_as_graphs(G, H):\n",
    "    if set(G.nodes()) != set(H.nodes()):\n",
    "        return false\n",
    "    return normalized_edges(G) == normalized_edges(H)"
   ]
  },
  {
   "cell_type": "code",
   "execution_count": null,
   "metadata": {},
   "outputs": [],
   "source": [
    "are_equal_as_graphs(G, H)"
   ]
  },
  {
   "cell_type": "code",
   "execution_count": null,
   "metadata": {},
   "outputs": [],
   "source": [
    "def list_contains_graph(graphs, G):\n",
    "    for H in graphs:\n",
    "        if are_equal_as_graphs(G, H):\n",
    "            return True\n",
    "    return False"
   ]
  },
  {
   "cell_type": "code",
   "execution_count": null,
   "metadata": {},
   "outputs": [],
   "source": [
    "list_contains_graph([G], H)"
   ]
  },
  {
   "cell_type": "code",
   "execution_count": null,
   "metadata": {},
   "outputs": [],
   "source": [
    "n = 4\n",
    "n**(n-2)"
   ]
  },
  {
   "cell_type": "code",
   "execution_count": null,
   "metadata": {},
   "outputs": [],
   "source": [
    "T = nx.random_tree(n)\n",
    "nx.draw(T, **opts)"
   ]
  },
  {
   "cell_type": "markdown",
   "metadata": {},
   "source": [
    "* Permutations act on trees by relabelling the nodes\n",
    "* The **symmetric group** on $X = \\{0, 1, 2, \\dots, n-1\\}$\n",
    "  is the set of all permutations of $X$.\n",
    "* It is generated by the **transpositions** of \n",
    "  consecutive numbers: $k \\leftrightarrow k+1$\n",
    "* This defines a **graph** on the set of all trees on $X$\n",
    "* The connected component (unlabelled graph) of `T` can\n",
    "  be constructed by BFS: the **orbit** of `T` under the\n",
    "  symmetric group.\n",
    "* As a by-product, the **automorphism group** of is determined."
   ]
  },
  {
   "cell_type": "markdown",
   "metadata": {},
   "source": [
    "## Permutations are Dictionaries\n",
    "\n",
    "* `python` dictionaries are maps $f \\colon \\mathrm{keys} \\to \\mathrm{values}$.\n",
    "* A permutation of $X$ is a map $f \\colon X \\to X$.\n",
    "* $\\leadsto$ represent a permutation as a `dict`. "
   ]
  },
  {
   "cell_type": "markdown",
   "metadata": {},
   "source": [
    "* The **identity** permutation $f(x) = x$:"
   ]
  },
  {
   "cell_type": "code",
   "execution_count": null,
   "metadata": {},
   "outputs": [],
   "source": [
    "one = { k: k for k in range(n) }\n",
    "one"
   ]
  },
  {
   "cell_type": "markdown",
   "metadata": {},
   "source": [
    "* The **transposition** $i \\leftrightarrow i{+}1$:"
   ]
  },
  {
   "cell_type": "code",
   "execution_count": null,
   "metadata": {},
   "outputs": [],
   "source": [
    "def transposition(n, i):\n",
    "    t = { k: k for k in range(n) }\n",
    "    t[i], t[i+1] = t[i+1], t[i]\n",
    "    return t"
   ]
  },
  {
   "cell_type": "code",
   "execution_count": null,
   "metadata": {},
   "outputs": [],
   "source": [
    "t1 = transposition(n, 1)\n",
    "t2 = transposition(n, 2)\n",
    "print(t1, t2)"
   ]
  },
  {
   "cell_type": "markdown",
   "metadata": {},
   "source": [
    "* **Composition** of `dict`s:  $(g \\circ f)(x) = g(f(x))$."
   ]
  },
  {
   "cell_type": "code",
   "execution_count": null,
   "metadata": {},
   "outputs": [],
   "source": [
    "def composition(a, b):\n",
    "    return { k: a[b[k]] for k in b.keys() }"
   ]
  },
  {
   "cell_type": "markdown",
   "metadata": {},
   "source": [
    "* $(1,2) \\circ (2,3) = (1, 2, 3)$,\n",
    "* $(2,3) \\circ (1,2) = (1, 3, 2)$."
   ]
  },
  {
   "cell_type": "code",
   "execution_count": null,
   "metadata": {},
   "outputs": [],
   "source": [
    "t12 = composition(t1, t2)\n",
    "t12"
   ]
  },
  {
   "cell_type": "code",
   "execution_count": null,
   "metadata": {},
   "outputs": [],
   "source": [
    "t21 = composition(t2, t1)\n",
    "t21"
   ]
  },
  {
   "cell_type": "markdown",
   "metadata": {},
   "source": [
    "* $f^{-1}(y) = x \\iff f(x) = y$."
   ]
  },
  {
   "cell_type": "code",
   "execution_count": null,
   "metadata": {},
   "outputs": [],
   "source": [
    "def inverse(a):\n",
    "    return { v : k for k, v in a.items() }"
   ]
  },
  {
   "cell_type": "markdown",
   "metadata": {},
   "source": [
    "* $(1,2,3)^{-1} = (1,3,2)$."
   ]
  },
  {
   "cell_type": "code",
   "execution_count": null,
   "metadata": {},
   "outputs": [],
   "source": [
    "inverse(t21)"
   ]
  },
  {
   "cell_type": "code",
   "execution_count": null,
   "metadata": {},
   "outputs": [],
   "source": [
    "inverse(t21)  == t12"
   ]
  },
  {
   "cell_type": "markdown",
   "metadata": {},
   "source": [
    "* The **symmetric group** $S_n$ of all permutations of $X = \\{0, 1, \\dots, n-1\\}$ is generated by the transpositions $(i, i{+}1)$, $i = 0, \\dots, n-2$."
   ]
  },
  {
   "cell_type": "code",
   "execution_count": null,
   "metadata": {},
   "outputs": [],
   "source": [
    "gens = [transposition(n, k) for k in range(n-1)]"
   ]
  },
  {
   "cell_type": "markdown",
   "metadata": {},
   "source": [
    "* BFS systematically computes all products of the generators:"
   ]
  },
  {
   "cell_type": "code",
   "execution_count": null,
   "metadata": {},
   "outputs": [],
   "source": [
    "def elements(gens, one):\n",
    "    orbit = [one]\n",
    "    for x in orbit:\n",
    "        for a in gens:\n",
    "            y = composition(a, x)\n",
    "            if not y in orbit:\n",
    "                orbit.append(y)\n",
    "    return orbit"
   ]
  },
  {
   "cell_type": "code",
   "execution_count": null,
   "metadata": {},
   "outputs": [],
   "source": [
    "sym = elements(gens, one)\n",
    "len(sym)"
   ]
  },
  {
   "cell_type": "markdown",
   "metadata": {},
   "source": [
    "## Orbits of Isomorphic Trees\n",
    "\n",
    "* The process of relabelling the nodes of a graph with vertex set\n",
    "  $X$ by permutations of $X$ defines a **group action** of $S_n$\n",
    "  on the set of all labelled trees on $X$.\n",
    "  \n",
    "* $1_X(T) = T$ and $(g \\circ f)(T) = g(f(T))$ for each tree $T$\n",
    "  with vertex set $X$."
   ]
  },
  {
   "cell_type": "code",
   "execution_count": null,
   "metadata": {},
   "outputs": [],
   "source": [
    "G = nx.path_graph(6)\n",
    "G12 = nx.relabel_nodes(nx.relabel_nodes(G, t1), t2)\n",
    "print(list(G12.nodes()))\n",
    "GG = nx.relabel_nodes(G, t21)\n",
    "print(list(GG.nodes()))"
   ]
  },
  {
   "cell_type": "markdown",
   "metadata": {},
   "source": [
    "*  The **orbit** of $T$ (under $S_n$) is the set of all images\n",
    "   $f(T)$, $f \\in S_n$.\n",
    "   \n",
    "* **BFS** sytematically computes the orbit by repeatedly applying\n",
    "  the generators of $S_n$:"
   ]
  },
  {
   "cell_type": "code",
   "execution_count": null,
   "metadata": {},
   "outputs": [],
   "source": [
    "orbit = [T]\n",
    "for x in orbit:\n",
    "    for a in gens:\n",
    "        y = nx.relabel_nodes(x, a)\n",
    "        if not list_contains_graph(orbit, y):\n",
    "            orbit.append(y)"
   ]
  },
  {
   "cell_type": "code",
   "execution_count": null,
   "metadata": {},
   "outputs": [],
   "source": [
    "len(orbit)"
   ]
  },
  {
   "cell_type": "markdown",
   "metadata": {},
   "source": [
    "* Graph and Queue version:"
   ]
  },
  {
   "cell_type": "code",
   "execution_count": null,
   "metadata": {},
   "outputs": [],
   "source": [
    "G = nx.Graph()\n",
    "G.add_node(T)\n",
    "Q = [T]"
   ]
  },
  {
   "cell_type": "code",
   "execution_count": null,
   "metadata": {},
   "outputs": [],
   "source": [
    "while len(Q) > 0:\n",
    "    x = Q.pop(0)\n",
    "    for a in gens:\n",
    "        y = nx.relabel_nodes(x, a)\n",
    "        y = next((z for z in G if are_equal_as_graphs(y, z)), y)\n",
    "        if not y in G:\n",
    "            G.add_node(y)\n",
    "            Q.append(y)\n",
    "            G.add_edge(x, y)\n",
    "        else:\n",
    "#            if y != x:\n",
    "                G.add_edge(x, y)      "
   ]
  },
  {
   "cell_type": "code",
   "execution_count": null,
   "metadata": {},
   "outputs": [],
   "source": [
    "nx.draw(G)"
   ]
  },
  {
   "cell_type": "markdown",
   "metadata": {},
   "source": [
    "* orbit + schreier transversal.\n"
   ]
  },
  {
   "cell_type": "code",
   "execution_count": null,
   "metadata": {},
   "outputs": [],
   "source": [
    "T.graph['perm'] = { i: i for i in range(n) }\n",
    "orbit = [T]\n",
    "for x in orbit:\n",
    "    for a in gens:\n",
    "        y = nx.relabel_nodes(x, a)\n",
    "        if not list_contains_graph(orbit, y):\n",
    "            y.graph['perm'] = composition(a, x.graph['perm'])\n",
    "            orbit.append(y)\n",
    "        "
   ]
  },
  {
   "cell_type": "code",
   "execution_count": null,
   "metadata": {},
   "outputs": [],
   "source": [
    "[x.graph['perm'] for x in orbit]"
   ]
  },
  {
   "cell_type": "markdown",
   "metadata": {},
   "source": [
    "* Orbit and Schreier generators\n",
    "* Replace `y` by its copy `z` in `orbit` if there is one.\n",
    "* if not, set `y.graph['perm']` and append `y` to `orbit`."
   ]
  },
  {
   "cell_type": "code",
   "execution_count": null,
   "metadata": {},
   "outputs": [],
   "source": [
    "autos = []\n",
    "T.graph['perm'] = { i: i for i in range(n) }\n",
    "orbit = [T]\n",
    "for x in orbit:\n",
    "    for a in gens:\n",
    "        y = nx.relabel_nodes(x, a)\n",
    "        ax = composition(a, x.graph['perm'])\n",
    "        z = next((z for z in orbit if are_equal_as_graphs(y, z)), None)\n",
    "        if z:\n",
    "            z1ax = composition(inverse(z.graph['perm']), ax)\n",
    "            if not z1ax in autos:\n",
    "                autos.append(z1ax)\n",
    "        else:\n",
    "            y.graph['perm'] = ax\n",
    "            orbit.append(y)        "
   ]
  },
  {
   "cell_type": "code",
   "execution_count": null,
   "metadata": {},
   "outputs": [],
   "source": [
    "[list(a.values()) for a in autos]"
   ]
  },
  {
   "cell_type": "code",
   "execution_count": null,
   "metadata": {},
   "outputs": [],
   "source": [
    "len(elements(autos, one))"
   ]
  },
  {
   "cell_type": "markdown",
   "metadata": {},
   "source": [
    "* `python` function version"
   ]
  },
  {
   "cell_type": "code",
   "execution_count": null,
   "metadata": {},
   "outputs": [],
   "source": [
    "def automorphisms(tree):\n",
    "    \n",
    "    # initialize\n",
    "    n = tree.order()\n",
    "    gens = [transposition(n, i) for i in range(n-1)]\n",
    "    autos = []\n",
    "    tree.graph['perm'] = { i: i for i in range(n) }\n",
    "    orbit = [tree]\n",
    "    \n",
    "    # loop\n",
    "    for x in orbit:\n",
    "        for a in gens:\n",
    "            ax = composition(a, x.graph['perm'])\n",
    "            y = nx.relabel_nodes(x, a)\n",
    "            z = next((z for z in orbit if are_equal_as_graphs(y, z)), None)\n",
    "            if z:\n",
    "                z1ax = composition(inverse(z.graph['perm']), ax)\n",
    "                if not z1ax in autos:\n",
    "                    autos.append(z1ax)\n",
    "            else:\n",
    "                y.graph['perm'] = ax\n",
    "                orbit.append(y)\n",
    "\n",
    "    # return result\n",
    "    return autos"
   ]
  },
  {
   "cell_type": "code",
   "execution_count": null,
   "metadata": {},
   "outputs": [],
   "source": [
    "T = nx.random_tree(6)\n",
    "nx.draw(T, **opts)"
   ]
  },
  {
   "cell_type": "code",
   "execution_count": null,
   "metadata": {},
   "outputs": [],
   "source": [
    "autos = automorphisms(T)\n",
    "print([list(a.values()) for a in autos])\n",
    "one = { k: k for k in range(T.order()) }\n",
    "len(elements(autos, one))"
   ]
  },
  {
   "cell_type": "markdown",
   "metadata": {},
   "source": [
    "##  Code Corner"
   ]
  },
  {
   "cell_type": "markdown",
   "metadata": {},
   "source": [
    "### `python`"
   ]
  },
  {
   "cell_type": "markdown",
   "metadata": {},
   "source": [
    "* `sorted` [doc]\n",
    "* `tuple` [doc]\n",
    "* `set` [doc]\n",
    "* `next` [doc]\n",
    "* `[].pop` [doc]\n",
    "* `{}.keys` [doc]\n",
    "* `{}.values` [doc]\n",
    "* `{}.items` [doc]"
   ]
  },
  {
   "cell_type": "markdown",
   "metadata": {},
   "source": [
    "### `networkx`"
   ]
  },
  {
   "cell_type": "markdown",
   "metadata": {},
   "source": [
    "* `relabel_nodes`\n",
    "* `path_graph`"
   ]
  },
  {
   "cell_type": "markdown",
   "metadata": {},
   "source": [
    "## Exercises\n",
    "\n",
    "1.  How many unlabelled trees are there on $n = 5$ vertices?\n",
    "   What (sizes) are their automorphism groups?\n",
    "\n",
    "2. $n = 6$?"
   ]
  },
  {
   "cell_type": "code",
   "execution_count": null,
   "metadata": {},
   "outputs": [],
   "source": []
  }
 ],
 "metadata": {
  "kernelspec": {
   "display_name": "Python 3",
   "language": "python",
   "name": "python3"
  },
  "language_info": {
   "codemirror_mode": {
    "name": "ipython",
    "version": 3
   },
   "file_extension": ".py",
   "mimetype": "text/x-python",
   "name": "python",
   "nbconvert_exporter": "python",
   "pygments_lexer": "ipython3",
   "version": "3.7.6"
  }
 },
 "nbformat": 4,
 "nbformat_minor": 1
}
