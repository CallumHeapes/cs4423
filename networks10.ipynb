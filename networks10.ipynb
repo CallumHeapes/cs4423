{
 "cells": [
  {
   "cell_type": "markdown",
   "metadata": {},
   "source": [
    "### CS4423 - Networks\n",
    "Prof. Götz Pfeiffer<br />\n",
    "School of Mathematics, Statistics and Applied Mathematics<br />\n",
    "NUI Galway"
   ]
  },
  {
   "cell_type": "markdown",
   "metadata": {},
   "source": [
    "#### 2. Centrality Measures\n",
    "\n",
    "# Lecture 10: Closeness and Betweenness  Centrality"
   ]
  },
  {
   "cell_type": "markdown",
   "metadata": {},
   "source": [
    "We study two more centrality measures\n",
    "* closeness centrality and\n",
    "* betweenness centrality\n",
    "\n",
    "and compare these to the centralities studied earlier in the\n",
    "example of the marital ties graph of the Florentine families.\n",
    "\n",
    "Import the packages and set standard drawing options:"
   ]
  },
  {
   "cell_type": "code",
   "execution_count": null,
   "metadata": {},
   "outputs": [],
   "source": [
    "import networkx as nx\n",
    "import pandas as pd\n",
    "from queue import Queue\n",
    "opts = { \"with_labels\": True, \"node_color\": 'y'}"
   ]
  },
  {
   "cell_type": "markdown",
   "metadata": {},
   "source": [
    "Next, recover the graph `G` of marital ties between Florentine families, together with the node attributes we have already determined."
   ]
  },
  {
   "cell_type": "code",
   "execution_count": null,
   "metadata": {},
   "outputs": [],
   "source": [
    "G = nx.read_yaml(\"data/florentine.yml\")\n",
    "G.nodes['Medici']"
   ]
  },
  {
   "cell_type": "code",
   "execution_count": null,
   "metadata": {},
   "outputs": [],
   "source": [
    "G.number_of_nodes()"
   ]
  },
  {
   "cell_type": "markdown",
   "metadata": {},
   "source": [
    "## Closeness Centrality"
   ]
  },
  {
   "cell_type": "markdown",
   "metadata": {},
   "source": [
    "A node $x$ in a network can be regarded as being central, if it is **close** to (many) other nodes, \n",
    "as it can then quickly interact with them.  A simple way to measure closeness in this sense\n",
    "is based on the sum of all the distances to the other nodes, as follows."
   ]
  },
  {
   "cell_type": "markdown",
   "metadata": {},
   "source": [
    "<div class=\"alert alert-danger\">\n",
    "\n",
    "**Definition (Closeness Centrality).**\n",
    "In a simple, connected graph $G$, the **closeness centrality** $c_i^C$ of node $i$\n",
    "is defined as\n",
    "$$\n",
    "c_i^C = \\Bigl(\\sum_j d_{ij}\\Bigr)^{-1}.\n",
    "$$\n",
    "\n",
    "The **normalized closeness centrality** of node $i$, defined as\n",
    "$$\n",
    "C_i^C = (n-1) c_i^C\n",
    "$$\n",
    "takes values in the interval $[0, 1]$.\n",
    "</div>"
   ]
  },
  {
   "cell_type": "markdown",
   "metadata": {},
   "source": [
    "**BFS again.**  \n",
    "\n",
    "* The following `python` function implements\n",
    "BFS for shortest distance from a previous lecture.  \n",
    "* It takes a graph $G = (X, E)$ and a vertex $x \\in X$\n",
    "as its arguments. \n",
    "* It returns a **dictionary**, which for each node as key has the distance to\n",
    "$x$ as its value."
   ]
  },
  {
   "cell_type": "code",
   "execution_count": null,
   "metadata": {},
   "outputs": [],
   "source": [
    "def distances(G, node):\n",
    "    \n",
    "    # 1. init: set up the dictionary and a queue\n",
    "    d = { node: 0 }\n",
    "    q = Queue()\n",
    "    q.put(node)\n",
    "    \n",
    "    # 2. loop\n",
    "    while not q.empty():\n",
    "        x = q.get()\n",
    "        for y in G.neighbors(x):\n",
    "            if y not in d:\n",
    "                d[y] = d[x] + 1\n",
    "                q.put(y)\n",
    "    \n",
    "    # 3. stop here\n",
    "    return d"
   ]
  },
  {
   "cell_type": "code",
   "execution_count": null,
   "metadata": {},
   "outputs": [],
   "source": [
    "d = distances(G, 'Medici')\n",
    "print(d)"
   ]
  },
  {
   "cell_type": "code",
   "execution_count": null,
   "metadata": {},
   "outputs": [],
   "source": [
    "distances(G, 'Pucci')"
   ]
  },
  {
   "cell_type": "markdown",
   "metadata": {},
   "source": [
    "* If the sum of the distances is $0$ (why?), computing the closeness will most likely\n",
    "cause a division-by-zero error.\n",
    "\n",
    "* From now on, we will work only with the large connected component of `G`, and\n",
    "call it `GG`."
   ]
  },
  {
   "cell_type": "code",
   "execution_count": null,
   "metadata": {},
   "outputs": [],
   "source": [
    "cc = list(nx.connected_components(G))[0]\n",
    "GG = G.subgraph(cc)\n",
    "n = GG.number_of_nodes()"
   ]
  },
  {
   "cell_type": "code",
   "execution_count": null,
   "metadata": {},
   "outputs": [],
   "source": [
    "nx.draw(GG, **opts)"
   ]
  },
  {
   "cell_type": "code",
   "execution_count": null,
   "metadata": {},
   "outputs": [],
   "source": [
    "d = distances(GG, 'Medici')\n",
    "sum(d.values())"
   ]
  },
  {
   "cell_type": "markdown",
   "metadata": {},
   "source": [
    "* Use `distances` to compute the normalized closeness centrality according to the above\n",
    "definition."
   ]
  },
  {
   "cell_type": "code",
   "execution_count": null,
   "metadata": {},
   "outputs": [],
   "source": [
    "close_cen = { x : (n-1)/sum(distances(GG, x).values()) for x in GG }\n",
    "close_cen"
   ]
  },
  {
   "cell_type": "markdown",
   "metadata": {},
   "source": [
    "* Compare the results to the `networkx` version of closeness:"
   ]
  },
  {
   "cell_type": "code",
   "execution_count": null,
   "metadata": {},
   "outputs": [],
   "source": [
    "nx.closeness_centrality(GG)"
   ]
  },
  {
   "cell_type": "markdown",
   "metadata": {},
   "source": [
    "* Let's add those measurements to the table."
   ]
  },
  {
   "cell_type": "code",
   "execution_count": null,
   "metadata": {},
   "outputs": [],
   "source": [
    "nx.set_node_attributes(G, close_cen, '$C_i^C$')"
   ]
  },
  {
   "cell_type": "code",
   "execution_count": null,
   "metadata": {},
   "outputs": [],
   "source": [
    "pd.DataFrame.from_dict(\n",
    "    dict(G.nodes(data=True)), \n",
    "    orient='index'\n",
    ").sort_values('degree', ascending=False)"
   ]
  },
  {
   "cell_type": "markdown",
   "metadata": {},
   "source": [
    "## Betweenness Centrality"
   ]
  },
  {
   "cell_type": "markdown",
   "metadata": {},
   "source": [
    "When interactions between non-adjacent agents in a network depend\n",
    "on middle men (on shortest paths between these agents), power comes\n",
    "to those in the middle.  Betweennness centrality measures centrality\n",
    "in terms of the number of shortest paths a node lies on."
   ]
  },
  {
   "cell_type": "markdown",
   "metadata": {},
   "source": [
    "<div class=\"alert alert-warning\">\n",
    "    \n",
    "**Defintion (Betweenness Centrality).**\n",
    "In a simple, connected graph $G$, the **betweenness centrality** $c_i^B$ of node $i$\n",
    "is defined as\n",
    "$$\n",
    "c_i^B = \\sum_{j \\neq i} \\sum_{k \\neq i} \\frac{n_{jk}(i)}{n_{jk}},\n",
    "$$\n",
    "where $n_{jk}$ denotes the **number** of shortest paths from\n",
    "node $j$ to node $k$, and where $n_{jk}(i)$ denotes the\n",
    "number of those shortest paths **passing through** node $i$.\n",
    "\n",
    "The **normalized betweenness centrality** of node $i$, defined as\n",
    "$$\n",
    "C_i^B = \\frac{c_i^B}{(n-1)(n-2)}\n",
    "$$\n",
    "takes values in the interval $[0, 1]$.\n",
    "</div>"
   ]
  },
  {
   "cell_type": "markdown",
   "metadata": {},
   "source": [
    "**BFS once more.**  This time as a python function, which returns a **dictionary** that contains, for each node $y$, a list of **immediate predecessors** of $y$\n",
    "in a shortest path from $x$ to $y$.  Yes, that's another piece of information that BFS can determine\n",
    "on the fly.  From this, recursively, one can reconstruct **all shortest paths** from $x$ to $y$.\n",
    "We still need to compute the shortest path lengths in order to decide which neighbor $x$\n",
    "actually is a predecessor of $y$: ."
   ]
  },
  {
   "cell_type": "code",
   "execution_count": null,
   "metadata": {},
   "outputs": [],
   "source": [
    "def predecessors(G, node):\n",
    "    \n",
    "    # 1. init: set up the two dictionaries and queue\n",
    "    dists = { node: 0 }\n",
    "    preds = { x : [] for x in G }\n",
    "    q = Queue()\n",
    "    q.put(node)\n",
    "    \n",
    "    # 2. loop\n",
    "    while not q.empty():\n",
    "        x = q.get()\n",
    "        for y in G.neighbors(x):\n",
    "            if y not in dists:\n",
    "                dists[y] = dists[x] + 1\n",
    "                q.put(y)\n",
    "            if dists[y] == dists[x] + 1:\n",
    "                preds[y].append(x)\n",
    "    \n",
    "    # 3. stop here\n",
    "    return preds"
   ]
  },
  {
   "cell_type": "code",
   "execution_count": null,
   "metadata": {},
   "outputs": [],
   "source": [
    "p = predecessors(GG, 'Medici')\n",
    "p"
   ]
  },
  {
   "cell_type": "markdown",
   "metadata": {},
   "source": [
    "Using the predcessor lists with respect to $x$, the shortest paths from $x$ to $y$ can be enumerated recursively:\n",
    "the shortest path from $x$ to itself is the empty path starting an ending at $x$.\n",
    "Else, if $y \\neq x$ then each shortest path from $y$ to $x$ travels through\n",
    "exactly one of $y$'s predecessors ... and ends in $y$."
   ]
  },
  {
   "cell_type": "code",
   "execution_count": null,
   "metadata": {},
   "outputs": [],
   "source": [
    "def shortest_paths(x, y, pre):\n",
    "    if x == y:\n",
    "        return [[x]]\n",
    "    paths = []\n",
    "    for p in pre[y]:\n",
    "        for path in shortest_paths(x, p, pre):\n",
    "            paths.append(path + [y])\n",
    "    return paths"
   ]
  },
  {
   "cell_type": "code",
   "execution_count": null,
   "metadata": {},
   "outputs": [],
   "source": [
    "shortest_paths('Medici', 'Bischeri', p)"
   ]
  },
  {
   "cell_type": "markdown",
   "metadata": {},
   "source": [
    "* Now compute betweenness:"
   ]
  },
  {
   "cell_type": "code",
   "execution_count": null,
   "metadata": {},
   "outputs": [],
   "source": [
    "between = { x : 0.0 for x in GG }"
   ]
  },
  {
   "cell_type": "code",
   "execution_count": null,
   "metadata": {},
   "outputs": [],
   "source": [
    "for x in GG:\n",
    "    pre = predecessors(GG, x)\n",
    "    for y in GG:\n",
    "        paths = shortest_paths(x, y, pre)\n",
    "        njk = len(paths)*(n-1)*(n-2)\n",
    "        for p in paths:\n",
    "            for z in p[1:-1]:  # exclude endpoints\n",
    "                between[z] += 1/njk"
   ]
  },
  {
   "cell_type": "code",
   "execution_count": null,
   "metadata": {},
   "outputs": [],
   "source": [
    "between"
   ]
  },
  {
   "cell_type": "code",
   "execution_count": null,
   "metadata": {},
   "outputs": [],
   "source": [
    "nx.betweenness_centrality(GG)"
   ]
  },
  {
   "cell_type": "code",
   "execution_count": null,
   "metadata": {},
   "outputs": [],
   "source": [
    "nx.draw(GG, with_labels=True)"
   ]
  },
  {
   "cell_type": "markdown",
   "metadata": {},
   "source": [
    "* Finally, let's add the normalized betweenness centralities as attributes to the\n",
    "nodes of the graph, and display the resulting table."
   ]
  },
  {
   "cell_type": "code",
   "execution_count": null,
   "metadata": {},
   "outputs": [],
   "source": [
    "nx.set_node_attributes(G, between, '$C_i^B$')"
   ]
  },
  {
   "cell_type": "code",
   "execution_count": null,
   "metadata": {},
   "outputs": [],
   "source": [
    "pd.DataFrame.from_dict(\n",
    "    dict(G.nodes(data=True)), \n",
    "    orient='index'\n",
    ").sort_values('degree', ascending=False)"
   ]
  },
  {
   "cell_type": "markdown",
   "metadata": {},
   "source": [
    "##  Code Corner"
   ]
  },
  {
   "cell_type": "markdown",
   "metadata": {},
   "source": [
    "### `networkx`"
   ]
  },
  {
   "cell_type": "markdown",
   "metadata": {},
   "source": [
    "* `read_yaml`: [[doc]](https://networkx.github.io/documentation/stable/reference/readwrite/generated/networkx.readwrite.nx_yaml.read_yaml.html#networkx.readwrite.nx_yaml.read_yaml)\n",
    "\n",
    "\n",
    "* `closeness_centrality`: [[doc]](https://networkx.github.io/documentation/stable/reference/algorithms/generated/networkx.algorithms.centrality.closeness_centrality.html#networkx.algorithms.centrality.closeness_centrality)\n",
    "   \n",
    "    \n",
    "* `betweenness_centrality`: [[doc]](https://networkx.github.io/documentation/stable/reference/algorithms/generated/networkx.algorithms.centrality.betweenness_centrality.html#networkx.algorithms.centrality.betweenness_centrality)"
   ]
  },
  {
   "cell_type": "markdown",
   "metadata": {},
   "source": [
    "## Exercises\n",
    "\n",
    "1. Recall that $C_i^C$ is the normalized closeness centrality of node $i$.  Why\n",
    "   is $0 \\leq C_i^C \\leq 1$?  When is $C_i^C = 1$?  Is $C_i^C$ ever $0$?\n",
    "\n",
    "2. Recall that $C_i^B$ is the normalized betweenness centrality of node $i$.\n",
    "   Why is $0 \\leq C_i^B \\leq 1$?  When is $C_i^B = 1$?  Is $C_i^B$ ever $0$?\n",
    "   \n",
    "3. Determine the closeness centrality and the betweenness centrality of the nodes in some\n",
    "   random trees.  What do you observe?\n",
    "   \n",
    "3. Compute the closeness centrality and the betweenness centrality of the nodes of the Petersen graph.\n",
    "   What do you observe?"
   ]
  },
  {
   "cell_type": "code",
   "execution_count": null,
   "metadata": {},
   "outputs": [],
   "source": []
  }
 ],
 "metadata": {
  "kernelspec": {
   "display_name": "Python 3",
   "language": "python",
   "name": "python3"
  },
  "language_info": {
   "codemirror_mode": {
    "name": "ipython",
    "version": 3
   },
   "file_extension": ".py",
   "mimetype": "text/x-python",
   "name": "python",
   "nbconvert_exporter": "python",
   "pygments_lexer": "ipython3",
   "version": "3.7.6"
  }
 },
 "nbformat": 4,
 "nbformat_minor": 2
}
